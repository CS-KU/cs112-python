{
 "cells": [
  {
   "cell_type": "markdown",
   "metadata": {},
   "source": [
    "# String #"
   ]
  },
  {
   "cell_type": "markdown",
   "metadata": {},
   "source": [
    "## String Data Type ##"
   ]
  },
  {
   "cell_type": "markdown",
   "metadata": {},
   "source": [
    "### 1. Single Quote ###\n",
    "\n",
    "```python\n",
    "str1 = 'Single Quote'\n",
    "print(str1)\n",
    "```"
   ]
  },
  {
   "cell_type": "markdown",
   "metadata": {},
   "source": [
    "### 2. Double Quote ###\n",
    "```python\n",
    "str2 = \"Double Quote\"\n",
    "print(str2)\n",
    "```"
   ]
  },
  {
   "cell_type": "code",
   "execution_count": null,
   "metadata": {},
   "outputs": [],
   "source": [
    "# Escaped String \n",
    "# Single Quote in Single Quote\n",
    "escaped_str1 = 'I don\\'t hate Python.'\n",
    "print(escaped_str1)"
   ]
  },
  {
   "cell_type": "code",
   "execution_count": null,
   "metadata": {},
   "outputs": [],
   "source": [
    "# Escaped String \n",
    "# Double Quote in Double Quote\n",
    "escaped_str2 = \"She said: \\\"I love Python.\\\"\"\n",
    "print(escaped_str2)"
   ]
  },
  {
   "cell_type": "code",
   "execution_count": null,
   "metadata": {
    "scrolled": true
   },
   "outputs": [],
   "source": [
    "# Single Quote in Double Quote\n",
    "escaped_str3 = \"It can't jump over Python.\"\n",
    "print(escaped_str3)"
   ]
  },
  {
   "cell_type": "code",
   "execution_count": null,
   "metadata": {},
   "outputs": [],
   "source": [
    "escaped_str4 = 'Line 1\\nLine 2'\n",
    "print(escaped_str4)\n",
    "print('-' * 20)\n",
    "escaped_str5 = \"Column 1\\tColumn 2\"\n",
    "print(escaped_str5)\n",
    "print('-' * 20)\n",
    "escaped_str6 = \"How can you keep '\\\\n' or '\\\\t' in string\"\n",
    "print(escaped_str6)"
   ]
  },
  {
   "cell_type": "markdown",
   "metadata": {},
   "source": [
    "### 3. Triple Quote ###"
   ]
  },
  {
   "cell_type": "code",
   "execution_count": null,
   "metadata": {},
   "outputs": [],
   "source": [
    "text = '''A string in triple qoutes can extend\n",
    "over multiple lines like this one, \n",
    "or use (\\\\n)\\n will enter a new line\n",
    "and can contain 'single' or \"double\" qoutes.'''\n",
    "print(text)"
   ]
  },
  {
   "cell_type": "markdown",
   "metadata": {},
   "source": [
    "--------------\n",
    "\n",
    "--------------"
   ]
  },
  {
   "cell_type": "markdown",
   "metadata": {},
   "source": [
    "## String Operators ##\n"
   ]
  },
  {
   "cell_type": "markdown",
   "metadata": {},
   "source": [
    "### 1. Concatenation (ต่อ String) ###\n",
    "> operator: `+`"
   ]
  },
  {
   "cell_type": "code",
   "execution_count": null,
   "metadata": {},
   "outputs": [],
   "source": [
    "print(\"Safari\" + \"World\")"
   ]
  },
  {
   "cell_type": "code",
   "execution_count": null,
   "metadata": {},
   "outputs": [],
   "source": [
    "place = \"Safari\" + ' ' + \"World\"\n",
    "print(place)"
   ]
  },
  {
   "cell_type": "markdown",
   "metadata": {},
   "source": [
    "### 2. Repetition ###\n",
    "\n",
    "> operator: `*`"
   ]
  },
  {
   "cell_type": "code",
   "execution_count": null,
   "metadata": {},
   "outputs": [],
   "source": [
    "print('un' * 3)"
   ]
  },
  {
   "cell_type": "code",
   "execution_count": null,
   "metadata": {},
   "outputs": [],
   "source": [
    "print('un' * 3 + 'ium')"
   ]
  },
  {
   "cell_type": "code",
   "execution_count": null,
   "metadata": {},
   "outputs": [],
   "source": [
    "print('un' + 'ium' * 3)"
   ]
  },
  {
   "cell_type": "markdown",
   "metadata": {},
   "source": [
    "### 3. Indexing (Access index of String) ###\n",
    "> operator `[]`\n",
    "\n",
    "Index ของ String เริ่มต้นที่ 0"
   ]
  },
  {
   "cell_type": "code",
   "execution_count": null,
   "metadata": {},
   "outputs": [],
   "source": [
    "print(\"Python\"[0])"
   ]
  },
  {
   "cell_type": "markdown",
   "metadata": {},
   "source": [
    "![String Indexing 1](http://sukreep.cs.sci.ku.ac.th/114/img/StringIndex-front.png \"String Indexing 1\")"
   ]
  },
  {
   "cell_type": "code",
   "execution_count": null,
   "metadata": {},
   "outputs": [],
   "source": [
    "sentence = \"Fundamental Programming Concept\"\n",
    "print(sentence[0], sentence[10])"
   ]
  },
  {
   "cell_type": "markdown",
   "metadata": {},
   "source": [
    "![String Indexing 2](http://sukreep.cs.sci.ku.ac.th/114/img/StringIndex-rear.png \"String Indexing 2\")"
   ]
  },
  {
   "cell_type": "code",
   "execution_count": null,
   "metadata": {},
   "outputs": [],
   "source": [
    "sentence = \"Fundamental Programming Concept\"\n",
    "print(sentence[-1], sentence[-10])"
   ]
  },
  {
   "cell_type": "markdown",
   "metadata": {},
   "source": [
    "*** String index out of range ***\n",
    "> การ access index ของ String ที่ไม่มี index นั้นอยู่"
   ]
  },
  {
   "cell_type": "code",
   "execution_count": null,
   "metadata": {},
   "outputs": [],
   "source": [
    "sentence = \"Fundamental Programming Concept\"\n",
    "print(sentence[31])"
   ]
  },
  {
   "cell_type": "code",
   "execution_count": null,
   "metadata": {},
   "outputs": [],
   "source": [
    "sentence = \"Fundamental Programming Concept\"\n",
    "print(sentence[-32])"
   ]
  },
  {
   "cell_type": "markdown",
   "metadata": {},
   "source": [
    "### 4. Slicing (หั่น String) ###\n",
    "> operator: `[:]`"
   ]
  },
  {
   "cell_type": "code",
   "execution_count": null,
   "metadata": {
    "scrolled": true
   },
   "outputs": [],
   "source": [
    "print(\"Python\"[2:4])"
   ]
  },
  {
   "cell_type": "markdown",
   "metadata": {},
   "source": [
    "![String Slicing](http://sukreep.cs.sci.ku.ac.th/114/img/StringSlicing.png \"String Slicing\")\n",
    "\n",
    "> [start:end:step]"
   ]
  },
  {
   "cell_type": "code",
   "execution_count": null,
   "metadata": {},
   "outputs": [],
   "source": [
    "sentence = \"Fundamental Programming Concept\"\n",
    "print(1, sentence[12:23])\n",
    "print(2, sentence[-19:-8])"
   ]
  },
  {
   "cell_type": "code",
   "execution_count": null,
   "metadata": {},
   "outputs": [],
   "source": [
    "sentence = \"Fundamental Programming Concept\"\n",
    "print(sentence[0:5], sentence[12: 12 + 4], sentence[-7:])"
   ]
  },
  {
   "cell_type": "code",
   "execution_count": null,
   "metadata": {},
   "outputs": [],
   "source": [
    "# default start is 0\n",
    "sentence = \"Fundamental Programming Concept\"\n",
    "print(1, sentence[:11])\n",
    "print(2, sentence[:23])\n",
    "print(3, sentence[:31])"
   ]
  },
  {
   "cell_type": "code",
   "execution_count": null,
   "metadata": {},
   "outputs": [],
   "source": [
    "# default step is 1\n",
    "sentence = \"Fundamental Programming Concept\"\n",
    "print(1, sentence[12:23:])\n",
    "print(2, sentence[12:23:1])\n",
    "print(3, sentence[12:23:2])\n",
    "print(4, sentence[:])"
   ]
  },
  {
   "cell_type": "code",
   "execution_count": null,
   "metadata": {},
   "outputs": [],
   "source": [
    "# default end is length of string + 1 if step is positive\n",
    "sentence = \"Fundamental Programming Concept\"\n",
    "print(1, sentence[0:])\n",
    "print(2, sentence[12:])\n",
    "print(3, sentence[24:])\n",
    "print(4, sentence[12::3])"
   ]
  },
  {
   "cell_type": "code",
   "execution_count": null,
   "metadata": {},
   "outputs": [],
   "source": [
    "# default end is before 0 if step is negative\n",
    "sentence = \"Fundamental Programming Concept\"\n",
    "print(1, sentence[0::-1])\n",
    "print(2, sentence[12::-1])\n",
    "print(3, sentence[24::-1])\n",
    "print(4, sentence[12::-2])"
   ]
  },
  {
   "cell_type": "markdown",
   "metadata": {},
   "source": [
    "![String Slicing](http://sukreep.cs.sci.ku.ac.th/114/img/StringSlicing.png \"String Slicing\")\n",
    "\n",
    "> [start:end:step]"
   ]
  },
  {
   "cell_type": "code",
   "execution_count": null,
   "metadata": {},
   "outputs": [],
   "source": [
    "sentence = \"Fundamental Programming Concept\"\n",
    "print(1, sentence[12:23:-1])\n",
    "print(2, sentence[22:11:-1])"
   ]
  },
  {
   "cell_type": "code",
   "execution_count": null,
   "metadata": {},
   "outputs": [],
   "source": [
    "sentence = \"Fundamental Programming Concept\"\n",
    "print(1, sentence[-1:-7:-1])\n",
    "print(2, sentence[-1:-8:-1])"
   ]
  },
  {
   "cell_type": "markdown",
   "metadata": {},
   "source": [
    "### 5. ตรวจสอบว่ามีใน String ###\n",
    "\n",
    "> ตรวจสอบว่า มี ใช้ operator: `in`\n",
    ">\n",
    "> ตรวจสอบว่า ไม่มี ใช้ operator: `not in`"
   ]
  },
  {
   "cell_type": "code",
   "execution_count": null,
   "metadata": {},
   "outputs": [],
   "source": [
    "print(\"P\" in \"Python\")\n",
    "print(\"p\" in \"Python\")\n",
    "print(\"T\" in \"Python\")\n",
    "print(\"t\" in \"Python\")"
   ]
  },
  {
   "cell_type": "code",
   "execution_count": null,
   "metadata": {},
   "outputs": [],
   "source": [
    "print(\"P\" not in \"Python\")\n",
    "print(\"p\" not in \"Python\")\n",
    "print(\"T\" not in \"Python\")\n",
    "print(\"t\" not in \"Python\")"
   ]
  },
  {
   "cell_type": "code",
   "execution_count": null,
   "metadata": {},
   "outputs": [],
   "source": [
    "print(not (\"P\" in \"Python\"))\n",
    "print(not (\"p\" in \"Python\"))\n",
    "print(not (\"T\" in \"Python\"))\n",
    "print(not (\"t\" in \"Python\"))"
   ]
  },
  {
   "cell_type": "code",
   "execution_count": null,
   "metadata": {},
   "outputs": [],
   "source": [
    "print(not \"P\" in \"Python\")\n",
    "print(not \"p\" in \"Python\")\n",
    "print(not \"T\" in \"Python\")\n",
    "print(not \"t\" in \"Python\")"
   ]
  },
  {
   "cell_type": "markdown",
   "metadata": {},
   "source": [
    "ตรวจสอบอักขระที่รับเข้ามา เป็น A หรือ a"
   ]
  },
  {
   "cell_type": "code",
   "execution_count": null,
   "metadata": {},
   "outputs": [],
   "source": [
    "choice = input(\"Select menu (A, B): \")\n",
    "if (choice in 'Aa'):\n",
    "    print('This is menu A')\n",
    "elif (choice in 'Bb'):\n",
    "    print('This is menu B')\n",
    "else:\n",
    "    print('Invalid menu: neither A nor B')"
   ]
  },
  {
   "cell_type": "markdown",
   "metadata": {},
   "source": [
    "---------\n",
    "\n",
    "---------"
   ]
  },
  {
   "cell_type": "markdown",
   "metadata": {},
   "source": [
    "## `for` *character* `in` *String*  ##"
   ]
  },
  {
   "cell_type": "code",
   "execution_count": null,
   "metadata": {},
   "outputs": [],
   "source": [
    "for letter in 'Python':\n",
    "    print('Current Letter:', letter)"
   ]
  },
  {
   "cell_type": "code",
   "execution_count": null,
   "metadata": {},
   "outputs": [],
   "source": [
    "sentence = \"Fundamental Programming Concept\"\n",
    "for ch in sentence:\n",
    "    print(ch, end='|')"
   ]
  },
  {
   "cell_type": "code",
   "execution_count": null,
   "metadata": {},
   "outputs": [],
   "source": [
    "sentence = \"Fundamental Programming Concept\"\n",
    "for ch in sentence[12:]:\n",
    "    print(ch, end='|')"
   ]
  },
  {
   "cell_type": "code",
   "execution_count": null,
   "metadata": {},
   "outputs": [],
   "source": [
    "sentence = \"Fundamental Programming Concept\"\n",
    "for ch in sentence[12::-1]:\n",
    "    print(ch, end='|')"
   ]
  },
  {
   "cell_type": "markdown",
   "metadata": {},
   "source": [
    "----------\n",
    "\n",
    "----------"
   ]
  },
  {
   "cell_type": "markdown",
   "metadata": {},
   "source": [
    "## Immutable Strings ##\n",
    "* mutate, mutant แปลว่า กลายพันธุ์\n",
    "* im เป็น prefix แปลว่า ไม่\n",
    "* able เป็น subfix แปลว่า สามารถ\n",
    "\n",
    "> อักขระใน String ไม่สามารถเปลี่ยนแปลงค่าได้"
   ]
  },
  {
   "cell_type": "code",
   "execution_count": null,
   "metadata": {
    "scrolled": true
   },
   "outputs": [],
   "source": [
    "s = \"Strings are immutable!\"\n",
    "s[-1] = '.'\n",
    "# จะเห็นว่าเกิด Error เพราะ String เปลี่ยนแปลงค่าไม่ได้\n",
    "print(s)"
   ]
  },
  {
   "cell_type": "code",
   "execution_count": null,
   "metadata": {},
   "outputs": [],
   "source": [
    "s = \"Strings are immutable!\"\n",
    "s = 'Fundamental Programming Concept'\n",
    "# กำหนดค่าใหม่ ให้กับตัวแปร s ทำได้ (ไม่ใช่การแก้ไขค่าใน String เดิม)\n",
    "print(s)"
   ]
  },
  {
   "cell_type": "markdown",
   "metadata": {},
   "source": [
    "------------\n",
    "\n",
    "------------"
   ]
  },
  {
   "cell_type": "markdown",
   "metadata": {},
   "source": [
    "# String Functions #\n",
    "\n",
    "> ฟังก์ชันที่รับ parameter เป็น String ไปทำงาน แล้วคืนค่าบางอย่างกลับมา\n",
    "\n",
    "**functionName(**str**)**"
   ]
  },
  {
   "cell_type": "markdown",
   "metadata": {},
   "source": [
    "## 1. Size (Length) ##\n",
    "ความยาวของ String\n",
    "\n",
    "```python\n",
    "len(string)\n",
    "```"
   ]
  },
  {
   "cell_type": "code",
   "execution_count": null,
   "metadata": {},
   "outputs": [],
   "source": [
    "print( len(\"Python\") )"
   ]
  },
  {
   "cell_type": "code",
   "execution_count": null,
   "metadata": {},
   "outputs": [],
   "source": [
    "sentence = \"Fundamental Programming Concept\"\n",
    "print( len(sentence) )\n",
    "print( sentence[len(sentence) - 1] )  # Index สุดท้ายของ String"
   ]
  },
  {
   "cell_type": "markdown",
   "metadata": {},
   "source": [
    "## 2. Ascii and Character ##\n",
    "```python\n",
    "ascii_code = ord(char)\n",
    "char = chr(ascii_code)\n",
    "```"
   ]
  },
  {
   "cell_type": "code",
   "execution_count": null,
   "metadata": {},
   "outputs": [],
   "source": [
    "print( ord('A') )\n",
    "print( ord('a') )"
   ]
  },
  {
   "cell_type": "code",
   "execution_count": null,
   "metadata": {},
   "outputs": [],
   "source": [
    "print( chr(65) )\n",
    "print( chr(97) )"
   ]
  },
  {
   "cell_type": "code",
   "execution_count": null,
   "metadata": {},
   "outputs": [],
   "source": [
    "print( chr(ord('A') + 3) )"
   ]
  },
  {
   "cell_type": "code",
   "execution_count": null,
   "metadata": {},
   "outputs": [],
   "source": [
    "sentence = \"Ixqgdphqwdo#Surjudpplqj#Frqfhsw\"\n",
    "for ch in sentence:\n",
    "    print( chr(ord(ch) - 3) , end='')"
   ]
  },
  {
   "cell_type": "markdown",
   "metadata": {},
   "source": [
    "## 3. Maximum and Minimum ##\n",
    "```python\n",
    "max(string)\n",
    "min(string)\n",
    "```"
   ]
  },
  {
   "cell_type": "code",
   "execution_count": null,
   "metadata": {},
   "outputs": [],
   "source": [
    "print( max(\"ABC\") )\n",
    "print( min(\"ABC\") )"
   ]
  },
  {
   "cell_type": "code",
   "execution_count": null,
   "metadata": {},
   "outputs": [],
   "source": [
    "print( max(\"xyZ\") )\n",
    "print( min(\"xyZ\") )"
   ]
  },
  {
   "cell_type": "markdown",
   "metadata": {},
   "source": [
    "-------------\n",
    "\n",
    "-------------"
   ]
  },
  {
   "cell_type": "markdown",
   "metadata": {},
   "source": [
    "# String Methods 1 #\n",
    "\n",
    "str**.methodName()**"
   ]
  },
  {
   "cell_type": "markdown",
   "metadata": {},
   "source": [
    "## lowercase v.s. UPPERCASE ##"
   ]
  },
  {
   "cell_type": "markdown",
   "metadata": {},
   "source": [
    "1\\. ตรวจสอบว่าเป็นตัวเล็ก `islower()` หรือเป็นตัวใหญ่ `isupper()`\n"
   ]
  },
  {
   "cell_type": "code",
   "execution_count": null,
   "metadata": {},
   "outputs": [],
   "source": [
    "print( 'python'.islower() )"
   ]
  },
  {
   "cell_type": "code",
   "execution_count": null,
   "metadata": {},
   "outputs": [],
   "source": [
    "print( 'PYTHON'.isupper() )"
   ]
  },
  {
   "cell_type": "code",
   "execution_count": null,
   "metadata": {},
   "outputs": [],
   "source": [
    "print( 'Python'.islower() )"
   ]
  },
  {
   "cell_type": "code",
   "execution_count": null,
   "metadata": {},
   "outputs": [],
   "source": [
    "print( 'Python'.isupper() )"
   ]
  },
  {
   "cell_type": "markdown",
   "metadata": {},
   "source": [
    "อักขระอื่นที่ไม่ใช่ตัวอักษร จะไม่ถูกนำมาพิจารณา"
   ]
  },
  {
   "cell_type": "code",
   "execution_count": null,
   "metadata": {},
   "outputs": [],
   "source": [
    "print( '01234 56789'.islower() )"
   ]
  },
  {
   "cell_type": "code",
   "execution_count": null,
   "metadata": {},
   "outputs": [],
   "source": [
    "print( 'python123 456'.islower() )"
   ]
  },
  {
   "cell_type": "code",
   "execution_count": null,
   "metadata": {},
   "outputs": [],
   "source": [
    "print( '01234 56789'.isupper() )"
   ]
  },
  {
   "cell_type": "code",
   "execution_count": null,
   "metadata": {},
   "outputs": [],
   "source": [
    "print( 'PYTHON123 456'.isupper() )"
   ]
  },
  {
   "cell_type": "markdown",
   "metadata": {},
   "source": [
    "2\\. แปลงเป็นตัวเล็ก `lower()` หรือแปลงเป็นตัวใหญ่ `upper()`"
   ]
  },
  {
   "cell_type": "code",
   "execution_count": null,
   "metadata": {},
   "outputs": [],
   "source": [
    "s1 = 'PYTHON'\n",
    "print( s1.lower() )"
   ]
  },
  {
   "cell_type": "code",
   "execution_count": null,
   "metadata": {},
   "outputs": [],
   "source": [
    "s1 = 'PYthon'\n",
    "s2 = s1.lower()\n",
    "print( s1 )\n",
    "print( s2 )"
   ]
  },
  {
   "cell_type": "code",
   "execution_count": null,
   "metadata": {},
   "outputs": [],
   "source": [
    "s1 = 'python'\n",
    "print( s1.upper() )"
   ]
  },
  {
   "cell_type": "code",
   "execution_count": null,
   "metadata": {},
   "outputs": [],
   "source": [
    "s1 = 'PYthon'\n",
    "s2 = s1.upper()\n",
    "print( s1 )\n",
    "print( s2 )"
   ]
  },
  {
   "cell_type": "markdown",
   "metadata": {},
   "source": [
    "อักขระอื่นที่ไม่ใช่ตัวอักษร จะไม่ถูกเปลี่ยนแปลง"
   ]
  },
  {
   "cell_type": "code",
   "execution_count": null,
   "metadata": {
    "scrolled": true
   },
   "outputs": [],
   "source": [
    "s1 = 'Python123 456'\n",
    "print( s1.lower() )"
   ]
  },
  {
   "cell_type": "code",
   "execution_count": null,
   "metadata": {},
   "outputs": [],
   "source": [
    "s1 = 'Python123 456'\n",
    "print( s1.upper() )"
   ]
  }
 ],
 "metadata": {
  "kernelspec": {
   "display_name": "Python 3",
   "language": "python",
   "name": "python3"
  },
  "language_info": {
   "codemirror_mode": {
    "name": "ipython",
    "version": 3
   },
   "file_extension": ".py",
   "mimetype": "text/x-python",
   "name": "python",
   "nbconvert_exporter": "python",
   "pygments_lexer": "ipython3",
   "version": "3.7.6"
  }
 },
 "nbformat": 4,
 "nbformat_minor": 4
}
