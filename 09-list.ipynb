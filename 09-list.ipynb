{
 "cells": [
  {
   "cell_type": "markdown",
   "metadata": {
    "collapsed": true
   },
   "source": [
    "# List (รายการ) #\n",
    "\n",
    "* เป็นโครงสร้างข้อมูลที่ Python มีให้\n",
    "* เขียนอยู่ในเครื่องหมายวงเล็บเหลี่ยม โดยคั่นข้อมูลแต่ละค่าด้วย comma\n",
    "* ชื่อตัวแปรที่เก็บข้อมูลแบบ List ควรเป็น พหูพจน์"
   ]
  },
  {
   "cell_type": "markdown",
   "metadata": {},
   "source": [
    "### ตัวอย่าง List ###"
   ]
  },
  {
   "cell_type": "markdown",
   "metadata": {},
   "source": [
    "![List Sample 1](http://sukreep.cs.sci.ku.ac.th/114/img/List-scores.png \"List Sample 1\")"
   ]
  },
  {
   "cell_type": "code",
   "execution_count": null,
   "metadata": {
    "collapsed": true
   },
   "outputs": [],
   "source": [
    "# List ของจำนวนเต็ม\n",
    "scores = [60, 70, 85, 66, 70, 0, 15, 9]\n",
    "print( scores )"
   ]
  },
  {
   "cell_type": "code",
   "execution_count": null,
   "metadata": {
    "collapsed": true
   },
   "outputs": [],
   "source": [
    "# List ของ String\n",
    "days = ['Sunday', 'Monday', 'Tuesday', 'Wednesday', 'Thursday', 'Friday', 'Saturday']\n",
    "print( days )"
   ]
  },
  {
   "cell_type": "markdown",
   "metadata": {},
   "source": [
    "## 1. Index และการเข้าถึง (access) ข้อมูลใน List ##\n",
    "\n",
    "### 1.1 Index ของ List เริ่มต้นที่ 0 ###"
   ]
  },
  {
   "cell_type": "markdown",
   "metadata": {},
   "source": [
    "![List Index Start at 0](http://sukreep.cs.sci.ku.ac.th/114/img/List-index0.png \"List Index Start at 0\")"
   ]
  },
  {
   "cell_type": "code",
   "execution_count": null,
   "metadata": {
    "collapsed": true
   },
   "outputs": [],
   "source": [
    "scores = [60, 70, 85, 66, 70, 0, 15, 9]\n",
    "print( scores[0] )\n",
    "print( scores[1] )\n",
    "print( scores[2] )"
   ]
  },
  {
   "cell_type": "code",
   "execution_count": null,
   "metadata": {
    "collapsed": true
   },
   "outputs": [],
   "source": [
    "days = ['Sunday', 'Monday', 'Tuesday', 'Wednesday', 'Thursday', 'Friday', 'Saturday']\n",
    "print( days[0] )\n",
    "print( days[4] )"
   ]
  },
  {
   "cell_type": "code",
   "execution_count": null,
   "metadata": {
    "collapsed": true
   },
   "outputs": [],
   "source": [
    "scores = [60, 70, 85, 66, 70, 0, 15, 9]\n",
    "print( scores[1] * 4 + scores[6] )"
   ]
  },
  {
   "cell_type": "code",
   "execution_count": null,
   "metadata": {
    "collapsed": true
   },
   "outputs": [],
   "source": [
    "days = ['Sunday', 'Monday', 'Tuesday', 'Wednesday', 'Thursday', 'Friday', 'Saturday']\n",
    "print( days[1] * 4 + days[6] )"
   ]
  },
  {
   "cell_type": "code",
   "execution_count": null,
   "metadata": {
    "collapsed": true
   },
   "outputs": [],
   "source": [
    "days = ['Sunday', 'Monday', 'Tuesday', 'Wednesday', 'Thursday', 'Friday', 'Saturday']\n",
    "print( days[1][4] + days[4][1] + days[6][6] )"
   ]
  },
  {
   "cell_type": "code",
   "execution_count": null,
   "metadata": {
    "collapsed": true
   },
   "outputs": [],
   "source": [
    "# ใช้ While Loop เพื่อแสดงข้อมูลใน List ทีละบรรทัด\n",
    "days = ['Sunday', 'Monday', 'Tuesday', 'Wednesday', 'Thursday', 'Friday', 'Saturday']\n",
    "index = 0\n",
    "while index < 6:\n",
    "    print(days[index])\n",
    "    index = index + 1"
   ]
  },
  {
   "cell_type": "code",
   "execution_count": null,
   "metadata": {
    "collapsed": true
   },
   "outputs": [],
   "source": [
    "# ผลลัพธ์คืออะไร (ทายก่อนรัน)\n",
    "ps = [2,3,5,7,11]\n",
    "i = 0\n",
    "while i < 5:\n",
    "    print(ps[i])\n",
    "    i = i + 2"
   ]
  },
  {
   "cell_type": "code",
   "execution_count": null,
   "metadata": {
    "collapsed": true
   },
   "outputs": [],
   "source": [
    "# ผลลัพธ์คืออะไร (ทายก่อนรัน)\n",
    "ps = [2, 3, 5, 7, 11, 13]\n",
    "nn = [1, 2, 1, 1, 2, 1]\n",
    "i = 0\n",
    "while i < 6:\n",
    "    print(ps[i])\n",
    "    i = i + nn[i]"
   ]
  },
  {
   "cell_type": "markdown",
   "metadata": {},
   "source": [
    "### 1.2 Index ของ List เป็นค่าลบได้ โดยเริ่มจากท้ายสุดเป็น -1 ###"
   ]
  },
  {
   "cell_type": "markdown",
   "metadata": {},
   "source": [
    "![List Index Start at -1 From Back](http://sukreep.cs.sci.ku.ac.th/114/img/List-index-1.png \"List Index Start at -1 From Back\")"
   ]
  },
  {
   "cell_type": "code",
   "execution_count": null,
   "metadata": {
    "collapsed": true
   },
   "outputs": [],
   "source": [
    "scores = [60, 70, 85, 66, 70, 0, 15, 9]\n",
    "print( scores[-1] )\n",
    "print( scores[-2] )\n",
    "print( scores[-3] )"
   ]
  },
  {
   "cell_type": "code",
   "execution_count": null,
   "metadata": {
    "collapsed": true
   },
   "outputs": [],
   "source": [
    "days = ['Sunday', 'Monday', 'Tuesday', 'Wednesday', 'Thursday', 'Friday', 'Saturday']\n",
    "print( days[-1] )\n",
    "print( days[-4] )"
   ]
  },
  {
   "cell_type": "markdown",
   "metadata": {},
   "source": [
    "### 1.3 ระวังการอ้างถึง Index ที่ไม่มีใน List ###"
   ]
  },
  {
   "cell_type": "code",
   "execution_count": null,
   "metadata": {
    "collapsed": true
   },
   "outputs": [],
   "source": [
    "scores = [60, 70, 85, 66, 70, 0, 15, 9]\n",
    "print( scores[8] )"
   ]
  },
  {
   "cell_type": "code",
   "execution_count": null,
   "metadata": {
    "collapsed": true
   },
   "outputs": [],
   "source": [
    "scores = [60, 70, 85, 66, 70, 0, 15, 9]\n",
    "print( scores[-9] )"
   ]
  },
  {
   "cell_type": "markdown",
   "metadata": {},
   "source": [
    "----------\n",
    "\n",
    "----------"
   ]
  },
  {
   "cell_type": "markdown",
   "metadata": {},
   "source": [
    "## 2. การแก้ไขค่าของข้อมูลใน List ##"
   ]
  },
  {
   "cell_type": "code",
   "execution_count": null,
   "metadata": {
    "collapsed": true
   },
   "outputs": [],
   "source": [
    "scores = [10, 20, 30, 40, 50]\n",
    "scores[2] = 5\n",
    "print(scores)"
   ]
  },
  {
   "cell_type": "code",
   "execution_count": null,
   "metadata": {
    "collapsed": true
   },
   "outputs": [],
   "source": [
    "scores = [10, 20, 30, 40, 50]\n",
    "scores[4] += 7\n",
    "print(scores)"
   ]
  },
  {
   "cell_type": "code",
   "execution_count": null,
   "metadata": {
    "collapsed": true
   },
   "outputs": [],
   "source": [
    "# ผลลัพธ์คืออะไร (ทายก่อนรัน)\n",
    "scores = [10, 20, 30, 40, 50]\n",
    "scores[2] = 5\n",
    "scores[4] += 7\n",
    "scores[0] = scores[-1] + scores[0] + scores[1]\n",
    "print(scores)"
   ]
  },
  {
   "cell_type": "code",
   "execution_count": null,
   "metadata": {
    "collapsed": true
   },
   "outputs": [],
   "source": [
    "# ผลลัพธ์คืออะไร (ทายก่อนรัน)\n",
    "ps = [1, 2, 1, 3, 1, 4]\n",
    "t = 0\n",
    "j = 0\n",
    "while j < 6:\n",
    "    if ps[j] < t:\n",
    "        t = ps[j]\n",
    "    else:\n",
    "        ps[j] = t\n",
    "    print(ps[j])\n",
    "    j += 1"
   ]
  },
  {
   "cell_type": "markdown",
   "metadata": {},
   "source": [
    "--------\n",
    "\n",
    "--------"
   ]
  },
  {
   "cell_type": "markdown",
   "metadata": {},
   "source": [
    "## 3. List รูปแบบอื่น ๆ ##\n"
   ]
  },
  {
   "cell_type": "markdown",
   "metadata": {},
   "source": [
    "### 3.1 List เก็บข้อมูลต่าง Type ได้ ###"
   ]
  },
  {
   "cell_type": "code",
   "execution_count": null,
   "metadata": {
    "collapsed": true
   },
   "outputs": [],
   "source": [
    "student_info = [\"John Doe\", 20, 167, 78.5]\n",
    "print(student_info[0])\n",
    "print(student_info[1])\n",
    "print(student_info[2])\n",
    "print(student_info[3])"
   ]
  },
  {
   "cell_type": "markdown",
   "metadata": {},
   "source": [
    "### 3.2 Empty List (รายการว่าง) ###"
   ]
  },
  {
   "cell_type": "code",
   "execution_count": null,
   "metadata": {
    "collapsed": true
   },
   "outputs": [],
   "source": [
    "emp = []\n",
    "print(emp)"
   ]
  },
  {
   "cell_type": "code",
   "execution_count": null,
   "metadata": {
    "collapsed": true
   },
   "outputs": [],
   "source": [
    "# เรียกสมาชิกลำดับสุดท้ายของ List ว่าง\n",
    "scores = []\n",
    "print(scores[-1])"
   ]
  },
  {
   "cell_type": "markdown",
   "metadata": {},
   "source": [
    "--------------\n",
    "\n",
    "--------------"
   ]
  },
  {
   "cell_type": "markdown",
   "metadata": {},
   "source": [
    "## 4. คำสั่ง `for` (For Loop) ##"
   ]
  },
  {
   "cell_type": "code",
   "execution_count": null,
   "metadata": {
    "collapsed": true
   },
   "outputs": [],
   "source": [
    "# เทียบกับการใช้ While Loop เพื่อแสดงข้อมูลใน List ทีละบรรทัด\n",
    "scores = [60, 70, 85, 66, 70, 0, 15, 9]\n",
    "index = 0\n",
    "while index < 8:\n",
    "    print(scores[index])\n",
    "    index = index + 1"
   ]
  },
  {
   "cell_type": "code",
   "execution_count": null,
   "metadata": {
    "collapsed": true
   },
   "outputs": [],
   "source": [
    "# ใช้ For Loop เพื่อแสดงข้อมูลใน List ทีละบรรทัด\n",
    "scores = [60, 70, 85, 66, 70, 0, 15, 9]\n",
    "for score in scores:\n",
    "    print(score)"
   ]
  },
  {
   "cell_type": "code",
   "execution_count": null,
   "metadata": {
    "collapsed": true
   },
   "outputs": [],
   "source": [
    "for item in [2, 3, 5, 7, 11, 13, 17, 19]:\n",
    "    print(item)"
   ]
  },
  {
   "cell_type": "code",
   "execution_count": null,
   "metadata": {
    "collapsed": true
   },
   "outputs": [],
   "source": [
    "# ใช้ For ในการเข้าถึงด้วย Index\n",
    "scores = [2, 3, 5, 7, 11, 13, 17, 19]\n",
    "for i in [0, 1, 2, 3, 4, 5, 6, 7]:\n",
    "    print(scores[i])"
   ]
  },
  {
   "cell_type": "markdown",
   "metadata": {},
   "source": [
    "### 4.1 ฟังก์ชัน `range()` ###\n",
    "\n",
    "* range(start, end, step)\n",
    "* range(start, end)\n",
    "* range(end)\n",
    "\n",
    "ใช้สร้าง List ของจำนวนเต็ม ส่วนมากจะใช้ร่วมกับ `for` loop"
   ]
  },
  {
   "cell_type": "code",
   "execution_count": null,
   "metadata": {
    "collapsed": true
   },
   "outputs": [],
   "source": [
    "print(range(0, 20, 1))\n",
    "# ใช้ฟังก์ชัน list() เพื่อเปลี่ยนให้เป็น List\n",
    "print(list(range(0, 20, 1)))"
   ]
  },
  {
   "cell_type": "code",
   "execution_count": null,
   "metadata": {
    "collapsed": true
   },
   "outputs": [],
   "source": [
    "print(range(10, 20, 1))\n",
    "print(list(range(10, 20, 1)))"
   ]
  },
  {
   "cell_type": "code",
   "execution_count": null,
   "metadata": {
    "collapsed": true
   },
   "outputs": [],
   "source": [
    "print(range(30, 20, -1))\n",
    "print(list(range(30, 20, -1)))"
   ]
  },
  {
   "cell_type": "code",
   "execution_count": null,
   "metadata": {
    "collapsed": true
   },
   "outputs": [],
   "source": [
    "# ถ้าไม่ใส่ step: default step = 1\n",
    "print(list(range(10, 20)))\n",
    "print(list(range(30, 20)))"
   ]
  },
  {
   "cell_type": "code",
   "execution_count": null,
   "metadata": {
    "collapsed": true
   },
   "outputs": [],
   "source": [
    "# ถ้าใส่ parameter ตัวเดียว: default start = 0, default step = 1\n",
    "print(list(range(20)))"
   ]
  },
  {
   "cell_type": "code",
   "execution_count": null,
   "metadata": {
    "collapsed": true
   },
   "outputs": [],
   "source": [
    "# ฟังก์ชัน count_factors(number) คืนค่าจำนวนของจำนวนเต็มที่หาร number ลงตัว\n",
    "def count_factors(number):\n",
    "    count = 0\n",
    "    for factor in range(1, number+1):\n",
    "        if number % factor == 0:\n",
    "            count += 1\n",
    "    return count\n",
    "\n",
    "\n",
    "print(count_factors(4))\n",
    "print(count_factors(25))\n",
    "print(count_factors(16))"
   ]
  },
  {
   "cell_type": "markdown",
   "metadata": {},
   "source": [
    "___(Your Turn)___"
   ]
  },
  {
   "cell_type": "code",
   "execution_count": null,
   "metadata": {
    "collapsed": true
   },
   "outputs": [],
   "source": [
    "# ใช้ For Loop ในการเข้าถึงด้วย Index แล้วแสดงข้อมูลทีละบรรทัด\n",
    "# เปลี่ยนไปใช้ range\n",
    "scores = [60, 70, 85, 66, 70, 0, 15, 9]\n",
    "# your code here\n",
    "\n"
   ]
  },
  {
   "cell_type": "code",
   "execution_count": null,
   "metadata": {
    "collapsed": true
   },
   "outputs": [],
   "source": [
    "# ใช้ For Loop เพื่อพิมพ์จำนวนวันของแต่ละเดือน\n",
    "# โดยจับคู่ Index ที่ตรงกันระหว่าง months และ days_in_month\n",
    "months = ['Jan', 'Feb', 'Mar', 'Apr', 'May', 'Jun', 'Jul', 'Aug', 'Sep', 'Oct', 'Nov', 'Dec']\n",
    "days_in_month = [31, 28, 31, 30, 31, 30, 31, 31, 30, 31, 30, 31]\n",
    "# Your code here\n",
    "\n",
    "\n"
   ]
  },
  {
   "cell_type": "markdown",
   "metadata": {},
   "source": [
    "------------\n",
    "\n",
    "\n",
    "------------\n"
   ]
  },
  {
   "cell_type": "markdown",
   "metadata": {},
   "source": [
    "## 5. List Operators ##"
   ]
  },
  {
   "cell_type": "markdown",
   "metadata": {},
   "source": [
    "### 5.1 Concatenation ###\n",
    "> Operator `+`\n",
    "\n",
    "นำ List มาบวกกัน ได้ List ใหม่"
   ]
  },
  {
   "cell_type": "code",
   "execution_count": null,
   "metadata": {
    "collapsed": true
   },
   "outputs": [],
   "source": [
    "print([1, 2] + [5, 10, 15])"
   ]
  },
  {
   "cell_type": "code",
   "execution_count": null,
   "metadata": {
    "collapsed": true
   },
   "outputs": [],
   "source": [
    "list1 = [1, 2]\n",
    "list2 = [5, 10, 15]\n",
    "print(list1 + list2)"
   ]
  },
  {
   "cell_type": "code",
   "execution_count": null,
   "metadata": {
    "collapsed": true
   },
   "outputs": [],
   "source": [
    "list1 = [1, 2]\n",
    "list2 = [5, 10, 15]\n",
    "list3 = list1 + list2\n",
    "print(list3)"
   ]
  },
  {
   "cell_type": "code",
   "execution_count": null,
   "metadata": {
    "collapsed": true
   },
   "outputs": [],
   "source": [
    "print([1, 2] + [1, 2])"
   ]
  },
  {
   "cell_type": "markdown",
   "metadata": {},
   "source": [
    "### 5.2 Repetition ###\n",
    "> Operator `*`\n",
    "\n",
    "นำ List มาคูณกับจำนวนเต็ม ได้ List ใหม่"
   ]
  },
  {
   "cell_type": "code",
   "execution_count": null,
   "metadata": {
    "collapsed": true
   },
   "outputs": [],
   "source": [
    "print( [1, 2, 3, 4] * 3 )"
   ]
  },
  {
   "cell_type": "code",
   "execution_count": null,
   "metadata": {
    "collapsed": true
   },
   "outputs": [],
   "source": [
    "totals = [0] * 10\n",
    "print(totals)"
   ]
  },
  {
   "cell_type": "markdown",
   "metadata": {},
   "source": [
    "### 5.3 Indexing ###\n",
    "> Operator `[]`\n",
    "\n",
    "Indexing (กลับไปดูข้อ 1.)"
   ]
  },
  {
   "cell_type": "markdown",
   "metadata": {},
   "source": [
    "### 5.4 Slicing ###\n",
    "> Operator `[:]`\n",
    "\n",
    "`[start:end:step]`"
   ]
  },
  {
   "cell_type": "code",
   "execution_count": null,
   "metadata": {},
   "outputs": [],
   "source": [
    "scores = [60, 70, 85, 66, 70, 0, 15, 9]\n",
    "print( scores[0:5:1] )\n",
    "print( scores )"
   ]
  },
  {
   "cell_type": "code",
   "execution_count": null,
   "metadata": {},
   "outputs": [],
   "source": [
    "scores = [60, 70, 85, 66, 70, 0, 15, 9]\n",
    "print( scores[2:5:1] )"
   ]
  },
  {
   "cell_type": "code",
   "execution_count": null,
   "metadata": {},
   "outputs": [],
   "source": [
    "scores = [60, 70, 85, 66, 70, 0, 15, 9]\n",
    "print( scores[0:8:2] )"
   ]
  },
  {
   "cell_type": "code",
   "execution_count": null,
   "metadata": {},
   "outputs": [],
   "source": [
    "scores = [60, 70, 85, 66, 70, 0, 15, 9]\n",
    "print( scores[:5] )"
   ]
  },
  {
   "cell_type": "code",
   "execution_count": null,
   "metadata": {},
   "outputs": [],
   "source": [
    "scores = [60, 70, 85, 66, 70, 0, 15, 9]\n",
    "print( scores[::2] )"
   ]
  },
  {
   "cell_type": "markdown",
   "metadata": {},
   "source": [
    "### 5.5 ตรวจสอบว่ามีใน List หรือไม่ ###\n",
    "> ตรวจสอบว่า มี ใช้ operator: `in`\n",
    ">\n",
    "> ตรวจสอบว่า ไม่มี ใช้ operator: `not in`"
   ]
  },
  {
   "cell_type": "code",
   "execution_count": null,
   "metadata": {},
   "outputs": [],
   "source": [
    "scores = [60, 70, 85, 66, 70, 0, 15, 9]\n",
    "print( 60 in scores )"
   ]
  },
  {
   "cell_type": "code",
   "execution_count": null,
   "metadata": {},
   "outputs": [],
   "source": [
    "scores = [60, 70, 85, 66, 70, 0, 15, 9]\n",
    "print( 70 not in scores )"
   ]
  },
  {
   "cell_type": "code",
   "execution_count": null,
   "metadata": {},
   "outputs": [],
   "source": [
    "days = ['Sunday', 'Monday', 'Tuesday', 'Wednesday', 'Thursday', 'Friday', 'Saturday']\n",
    "print ( 'Sun' in days )"
   ]
  },
  {
   "cell_type": "code",
   "execution_count": null,
   "metadata": {
    "collapsed": true
   },
   "outputs": [],
   "source": [
    "choice = input(\"Select menu (A, B): \")\n",
    "if (choice in ['A', 'a']):\n",
    "    print('This is menu A')\n",
    "elif (choice in ['B', 'b']):\n",
    "    print('This is menu B')\n",
    "else:\n",
    "    print('Invalid menu: neither A nor B')"
   ]
  },
  {
   "cell_type": "markdown",
   "metadata": {},
   "source": [
    "--------\n",
    "\n",
    "\n",
    "--------"
   ]
  },
  {
   "cell_type": "markdown",
   "metadata": {},
   "source": [
    "## 6. List Functions ##"
   ]
  },
  {
   "cell_type": "markdown",
   "metadata": {},
   "source": [
    "### 6.1 `len(list)` ###\n",
    "\n",
    "คืนค่าจำนวนสมาชิกใน List"
   ]
  },
  {
   "cell_type": "code",
   "execution_count": null,
   "metadata": {
    "collapsed": true
   },
   "outputs": [],
   "source": [
    "scores = [60, 70, 85, 66, 70, 0, 15, 9]\n",
    "print( len(scores) )"
   ]
  },
  {
   "cell_type": "code",
   "execution_count": null,
   "metadata": {
    "collapsed": true
   },
   "outputs": [],
   "source": [
    "days = ['Sunday', 'Monday', 'Tuesday', 'Wednesday', 'Thursday', 'Friday', 'Saturday']\n",
    "print( 'There are', len(days), 'days in a week.' )"
   ]
  },
  {
   "cell_type": "code",
   "execution_count": null,
   "metadata": {
    "collapsed": true
   },
   "outputs": [],
   "source": [
    "print( len([]) )"
   ]
  },
  {
   "cell_type": "markdown",
   "metadata": {},
   "source": [
    "### 6.2 `sum(list)` ###\n",
    "คืนค่าผลรวมของสมาชิกใน List\n",
    "\n",
    "สมาชิกใน List ต้องรวมกันได้"
   ]
  },
  {
   "cell_type": "code",
   "execution_count": null,
   "metadata": {
    "collapsed": true
   },
   "outputs": [],
   "source": [
    "scores = [60, 70, 85, 66, 70, 0, 15, 9]\n",
    "print( sum(scores) )"
   ]
  },
  {
   "cell_type": "code",
   "execution_count": null,
   "metadata": {
    "collapsed": true
   },
   "outputs": [],
   "source": [
    "print( sum([]) )"
   ]
  },
  {
   "cell_type": "code",
   "execution_count": null,
   "metadata": {
    "collapsed": true
   },
   "outputs": [],
   "source": [
    "days = ['Sunday', 'Monday', 'Tuesday', 'Wednesday', 'Thursday', 'Friday', 'Saturday']\n",
    "print( sum(days) )"
   ]
  },
  {
   "cell_type": "markdown",
   "metadata": {},
   "source": [
    "### 6.3 `max(list)` ###\n",
    "คืนค่าที่มากที่สุดใน list\n",
    "\n",
    "แต่ละสมาชิกต้องเปรียบเทียบกันได้"
   ]
  },
  {
   "cell_type": "code",
   "execution_count": null,
   "metadata": {
    "collapsed": true
   },
   "outputs": [],
   "source": [
    "scores = [60, 70, 85, 66, 70, 0, 15, 9]\n",
    "print( max(scores) )"
   ]
  },
  {
   "cell_type": "code",
   "execution_count": null,
   "metadata": {
    "collapsed": true
   },
   "outputs": [],
   "source": [
    "# ใช้กับ empty string ไม่ได้\n",
    "emp = []\n",
    "print( max(emp) )"
   ]
  },
  {
   "cell_type": "code",
   "execution_count": null,
   "metadata": {
    "collapsed": true
   },
   "outputs": [],
   "source": [
    "days = ['Sunday', 'Monday', 'Tuesday', 'Wednesday', 'Thursday', 'Friday', 'Saturday']\n",
    "print( max(days) )"
   ]
  },
  {
   "cell_type": "code",
   "execution_count": null,
   "metadata": {
    "collapsed": true
   },
   "outputs": [],
   "source": [
    "student_info = [\"John Doe\", 20, 167, 78.5]\n",
    "print( max(student_info) )"
   ]
  },
  {
   "cell_type": "markdown",
   "metadata": {},
   "source": [
    "### 6.4 `min(list)` ###\n",
    "คืนค่าที่น้อยที่สุดใน list\n",
    "\n",
    "แต่ละสมาชิกต้องเปรียบเทียบกันได้"
   ]
  },
  {
   "cell_type": "code",
   "execution_count": null,
   "metadata": {
    "collapsed": true
   },
   "outputs": [],
   "source": [
    "scores = [60, 70, 85, 66, 70, 0, 15, 9]\n",
    "print( min(scores) )"
   ]
  },
  {
   "cell_type": "code",
   "execution_count": null,
   "metadata": {
    "collapsed": true
   },
   "outputs": [],
   "source": [
    "# ใช้กับ empty string ไม่ได้\n",
    "emp = []\n",
    "print( min(emp) )"
   ]
  },
  {
   "cell_type": "code",
   "execution_count": null,
   "metadata": {
    "collapsed": true
   },
   "outputs": [],
   "source": [
    "days = ['Sunday', 'Monday', 'Tuesday', 'Wednesday', 'Thursday', 'Friday', 'Saturday']\n",
    "print( min(days) )"
   ]
  },
  {
   "cell_type": "code",
   "execution_count": null,
   "metadata": {
    "collapsed": true
   },
   "outputs": [],
   "source": [
    "student_info = [\"John Doe\", 20, 167, 78.5]\n",
    "print( min(student_info) )"
   ]
  },
  {
   "cell_type": "markdown",
   "metadata": {},
   "source": [
    "___(Your Turn)___"
   ]
  },
  {
   "cell_type": "code",
   "execution_count": null,
   "metadata": {
    "collapsed": true
   },
   "outputs": [],
   "source": [
    "# สร้างฟังก์ชัน average(l) \n",
    "# โดยรับ l ซึ่งเป็น List ของข้อมูลจำนวนเต็มชุดหนึ่ง\n",
    "# แล้วคืนค่า ค่าเฉลี่ยของข้อมูลใน List นั้น\n",
    "def average(l):\n",
    "    # Your code here\n",
    "\n",
    "    \n",
    "scores = [16, 32, 64, 2, 11, 9]\n",
    "print(\"Average score: %.2f\" % average(scores))\n",
    "scores = []\n",
    "print(\"Average score: %.2f\" % average(scores))"
   ]
  },
  {
   "cell_type": "code",
   "execution_count": null,
   "metadata": {
    "collapsed": true
   },
   "outputs": [],
   "source": [
    "# สร้างฟังก์ชัน count_element(l) เลียนแบบการทำงานของฟังก์ชัน len(l)\n",
    "# โดยรับ l ซึ่งเป็น List ของข้อมูลชุดหนึ่ง\n",
    "# แล้วคืนค่า จำนวนสมาชิกใน List นั้น\n",
    "# โดยใช้ For Loop และไม่ใช้ฟังก์ชัน len()\n",
    "def count_element(l):\n",
    "    # Your code here\n",
    "\n",
    "    \n",
    "scores = [16, 32, 64, 2, 11, 9]\n",
    "print(\"count_element(scores): %d\" % count_element(scores))\n",
    "print(\"len(scores): %d\" % len(scores))"
   ]
  },
  {
   "cell_type": "code",
   "execution_count": null,
   "metadata": {
    "collapsed": true
   },
   "outputs": [],
   "source": [
    "# สร้างฟังก์ชัน sum_element(l) เลียนแบบการทำงานของฟังก์ชัน sum(l)\n",
    "# โดยรับ l ซึ่งเป็น List ของข้อมูลจำนวนเต็มชุดหนึ่ง\n",
    "# แล้วคืนค่า ผลรวมของข้อมูลใน List นั้น\n",
    "# โดยใช้ For Loop และไม่ใช้ฟังก์ชัน sum()\n",
    "def sum_element(l):\n",
    "    # Your code here\n",
    "\n",
    "    \n",
    "scores = [16, 32, 64, 2, 11, 9]\n",
    "print(\"sum_element(scores): %d\" % sum_element(scores))\n",
    "print(\"sum(scores): %d\" % sum(scores))"
   ]
  },
  {
   "cell_type": "code",
   "execution_count": null,
   "metadata": {
    "collapsed": true
   },
   "outputs": [],
   "source": [
    "# สร้างฟังก์ชัน max_element(l) เลียนแบบการทำงานของฟังก์ชัน max(l)\n",
    "# โดยรับ l ซึ่งเป็น List ของข้อมูลจำนวนเต็มชุดหนึ่ง\n",
    "# แล้วคืนค่า จำนวนที่มากที่สุด ใน List นั้น\n",
    "# โดยใช้ For Loop และไม่ใช้ฟังก์ชัน max()\n",
    "def max_element(l):\n",
    "    # Your code here\n",
    "    \n",
    "    \n",
    "scores = [16, 32, 64, 2, 11, 9]\n",
    "print(\"max_element(scores): %d\" % max_element(scores))\n",
    "print(\"max(scores): %d\" % max(scores))"
   ]
  },
  {
   "cell_type": "code",
   "execution_count": null,
   "metadata": {
    "collapsed": true
   },
   "outputs": [],
   "source": [
    "# สร้างฟังก์ชัน min_element(l) เลียนแบบการทำงานของฟังก์ชัน min(l)\n",
    "# โดยรับ l ซึ่งเป็น List ของข้อมูลจำนวนเต็มชุดหนึ่ง\n",
    "# แล้วคืนค่า จำนวนที่น้อยที่สุด ใน List นั้น\n",
    "# โดยใช้ For Loop และไม่ใช้ฟังก์ชัน min()\n",
    "def min_element(l):\n",
    "    # Your code here\n",
    "    \n",
    "    \n",
    "scores = [16, 32, 64, 2, 11, 9]\n",
    "print(\"min_element(scores): %d\" % min_element(scores))\n",
    "print(\"min(scores): %d\" % min(scores))"
   ]
  },
  {
   "cell_type": "markdown",
   "metadata": {},
   "source": [
    "-------\n",
    "\n",
    "-------"
   ]
  },
  {
   "cell_type": "markdown",
   "metadata": {},
   "source": [
    "## 7. ค่าความจริงของ List ##\n",
    "\n",
    "* List ว่าง เป็น False\n",
    "* List มีสมาชิก เป็น True"
   ]
  },
  {
   "cell_type": "code",
   "execution_count": null,
   "metadata": {},
   "outputs": [],
   "source": [
    "print( bool([]) )"
   ]
  },
  {
   "cell_type": "code",
   "execution_count": null,
   "metadata": {},
   "outputs": [],
   "source": [
    "scores = [60, 70, 85, 66, 70, 0, 15, 9]\n",
    "print( bool(scores) )"
   ]
  },
  {
   "cell_type": "markdown",
   "metadata": {},
   "source": [
    "---------\n",
    "\n",
    "---------"
   ]
  },
  {
   "cell_type": "markdown",
   "metadata": {},
   "source": [
    "## 8. การเพิ่มข้อมูลใน List ##\n",
    "`list.append(data)`"
   ]
  },
  {
   "cell_type": "code",
   "execution_count": null,
   "metadata": {},
   "outputs": [],
   "source": [
    "scores = []\n",
    "\n",
    "scores.append(20)\n",
    "print( 'Append 20:', scores )\n",
    "\n",
    "score = 30\n",
    "scores.append(score)\n",
    "print( 'Append 30:', scores )\n",
    "\n",
    "scores.append(20)\n",
    "print( 'Append 20:', scores )"
   ]
  },
  {
   "cell_type": "code",
   "execution_count": null,
   "metadata": {},
   "outputs": [],
   "source": [
    "# ฟังก์ชัน factors(number) คืนค่า List ของจำนวนเต็มทั้งหมดที่หาร number ลงตัว\n",
    "def factors(number):\n",
    "    factors = []\n",
    "    for factor in range(1, number+1):\n",
    "        if number % factor == 0:\n",
    "            factors.append(factor)\n",
    "    return factors\n",
    "\n",
    "print(factors(4))\n",
    "print(factors(27))"
   ]
  },
  {
   "cell_type": "code",
   "execution_count": null,
   "metadata": {
    "collapsed": true
   },
   "outputs": [],
   "source": [
    "# ฟังก์ชันรับข้อมูลจำนวนเต็มจากผู้ใช้ ไปใส่ใน List จนกระทั่งผู้ใช้พิมพ์ -1\n",
    "def read_list():\n",
    "    data = []\n",
    "    while True:\n",
    "        x = int(input(\"Enter a number (-1 to end): \"))\n",
    "        if x == -1: \n",
    "            break\n",
    "        data.append(x)\n",
    "    return data"
   ]
  },
  {
   "cell_type": "code",
   "execution_count": null,
   "metadata": {
    "collapsed": true
   },
   "outputs": [],
   "source": [
    "# ใช้ฟังก์ชัน read_list() เพื่อรับข้อมูลจากผู้ใช้ แล้วสร้างเป็น List\n",
    "# จากนั้นแสดงผลรวม ค่าเฉลี่ย ค่าที่มากสุด และค่าที่น้อยสุด\n",
    "numbers = read_list()\n",
    "print(\"Average: %.2f\" % ___)\n",
    "print(\"Sum: %d\" % ___)\n",
    "print(\"Max: %d\" % ___)\n",
    "print(\"Min: %d\" % ___)"
   ]
  }
 ],
 "metadata": {
  "kernelspec": {
   "display_name": "Python 3.6",
   "language": "python",
   "name": "python36"
  },
  "language_info": {
   "codemirror_mode": {
    "name": "ipython",
    "version": 3
   },
   "file_extension": ".py",
   "mimetype": "text/x-python",
   "name": "python",
   "nbconvert_exporter": "python",
   "pygments_lexer": "ipython3",
   "version": "3.6.0"
  }
 },
 "nbformat": 4,
 "nbformat_minor": 2
}
