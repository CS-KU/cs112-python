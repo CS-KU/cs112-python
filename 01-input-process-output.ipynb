{
 "cells": [
  {
   "cell_type": "markdown",
   "metadata": {
    "collapsed": true
   },
   "source": [
    "# Input > Process > Output #"
   ]
  },
  {
   "cell_type": "markdown",
   "metadata": {},
   "source": [
    "แบ่งโปรแกรมออกเป็น 3 ส่วน\n",
    "1. Input - ส่วนข้อมูลเข้าสู่โปรแกรม\n",
    "2. Process - ส่วนวิเคราะห์การทำงาน\n",
    "3. Output - ส่วนแสดงผลลัพธ์ของการทำงาน\n",
    "\n",
    "แต่ละส่วนมีการทำงานต่อเนื่องกัน"
   ]
  },
  {
   "cell_type": "code",
   "execution_count": null,
   "metadata": {
    "collapsed": true
   },
   "outputs": [],
   "source": [
    "# input\n",
    "\n",
    "\n",
    "# process\n",
    "\n",
    "\n",
    "# output\n",
    "\n"
   ]
  },
  {
   "cell_type": "markdown",
   "metadata": {},
   "source": [
    "> ในการเขียนโปรแกรม หากไม่ต้องการให้ประมวลผลคำสั่งบรรทัดใด ให้บรรทัดนั้นเป็น Comment<br>\n",
    "> Comment ในแต่ละภาษาโปรแกรม จะมีรูปแบบต่างกัน <br>\n",
    "> สำหรับภาษา Python จะใช้เครื่องหมาย `#` นำหน้าบรรทัดนั้น"
   ]
  },
  {
   "cell_type": "code",
   "execution_count": null,
   "metadata": {},
   "outputs": [],
   "source": [
    "# ตัวอย่างโปรแกรม แนะนำตัวเอง\n",
    "\n",
    "# input\n",
    "name = input(\"Enter your name: \")\n",
    "age = int(input(\"Enter your age: \"))\n",
    "\n",
    "# process\n",
    "result = \"Hello, my name is \" + name + \". I am \" + str(age) + \" years old.\"\n",
    "\n",
    "# output\n",
    "print(result)"
   ]
  },
  {
   "cell_type": "markdown",
   "metadata": {},
   "source": [
    "-----------------\n",
    "\n",
    "-----------------"
   ]
  },
  {
   "cell_type": "markdown",
   "metadata": {},
   "source": [
    "# ส่วนข้อมูลเข้าสู่โปรแกรม (Input) #\n",
    "โจทย์ส่วนใหญ่ในวิชานี้ จะรับข้อมูลนำเข้าจากหน้าจอผ่านคำสั่ง `input()` <br>\n",
    "และเก็บค่าของข้อมูลที่รับเข้ามาใส่ตัวแปร\n",
    "\n",
    "### ตัวอย่าง ###\n",
    "```python\n",
    "name = input(\"Enter your name: \")\n",
    "```\n",
    "`name` คือ ตัวแปร ที่เก็บค่าของข้อมูลที่รับมาผ่านคำสั่ง `input()` <br>\n",
    "`input(\"Enter your name: \")` คือ คำสั่ง ที่รับค่าที่ผู้ใช้พิมพ์ผ่านหน้าจอ"
   ]
  },
  {
   "cell_type": "markdown",
   "metadata": {},
   "source": [
    "---------"
   ]
  },
  {
   "cell_type": "markdown",
   "metadata": {
    "collapsed": true
   },
   "source": [
    "## ชนิดของข้อมูล (Data Type) ##\n",
    "ชนิดข้อมูลพื้นฐานในภาษา Python ที่จะแนะนำให้รู้จักในคาบเรียนนี้คือ\n",
    "1. str (String) อยู่ใน single qoutes (`''`) หรือ double qoutes (`\"\"`) เช่น `'418112'`\n",
    "2. int (Integer) เช่น `418112`\n",
    "3. float (Floating Point) เช่น `418.112`\n",
    "\n",
    "> ข้อมูลนำเข้าที่ได้จากคำสั่ง `input()` มี data type เป็น str"
   ]
  },
  {
   "cell_type": "markdown",
   "metadata": {},
   "source": [
    "## คำสั่งแปลงชนิดข้อมูล ##\n",
    "1. คำสั่ง `int()` แปลงข้อมูล type float หรือ type str ที่มีข้อความในรูปจำนวนเต็ม ให้เป็น int เพื่อนำไปคำนวณทางคณิตศาสตร์"
   ]
  },
  {
   "cell_type": "code",
   "execution_count": null,
   "metadata": {},
   "outputs": [],
   "source": [
    "# ใช้คำสั่ง int() แปลงข้อมูลจาก float เป็น int\n",
    "height = 179.54\n",
    "print( height )\n",
    "print( int(height) )\n",
    "print( int(height) / 2 )\n",
    "print( int( int(height) / 2 ) )"
   ]
  },
  {
   "cell_type": "code",
   "execution_count": null,
   "metadata": {},
   "outputs": [],
   "source": [
    "# ใช้คำสั่ง int() แปลงข้อมูลจาก str เป็น int\n",
    "\n",
    "age = '18'\n",
    "print( int(age) * 2 )\n",
    "\n",
    "# ถ้าไม่ใช้คำสั่ง int()\n",
    "print( age * 2 )"
   ]
  },
  {
   "cell_type": "code",
   "execution_count": null,
   "metadata": {},
   "outputs": [],
   "source": [
    "# ถ้า str ไม่อยู่ในรูปของจำนวนเต็ม\n",
    "height = '181.56'\n",
    "print( int(height) ) # error"
   ]
  },
  {
   "cell_type": "markdown",
   "metadata": {},
   "source": [
    "2\\. คำสั่ง `float()` แปลงข้อมูล type int หรือ type str ที่มีข้อความในรูปจำนวนจริง ให้เป็น float เพื่อนำไปคำนวณทางคณิตศาสตร์"
   ]
  },
  {
   "cell_type": "code",
   "execution_count": null,
   "metadata": {},
   "outputs": [],
   "source": [
    "# ใช้คำสั่ง float() แปลงข้อมูลจาก int เป็น float\n",
    "score = 20\n",
    "print( float(score) )\n",
    "print( float(score) / 4 )"
   ]
  },
  {
   "cell_type": "code",
   "execution_count": null,
   "metadata": {},
   "outputs": [],
   "source": [
    "# ใช้คำสั่ง float() แปลงข้อมูลจาก str เป็น float\n",
    "score = '20.54'\n",
    "print( float(score) )\n",
    "print( float(score) / 4 )"
   ]
  },
  {
   "cell_type": "code",
   "execution_count": null,
   "metadata": {},
   "outputs": [],
   "source": [
    "# ถ้า str ไม่อยู่ในรูปของจำนวนจริง\n",
    "grade = 'B+'\n",
    "print( float(grade) ) # error"
   ]
  },
  {
   "cell_type": "markdown",
   "metadata": {},
   "source": [
    "3\\. คำสั่ง `str()` แปลงข้อมูล type int หรือ type float เป็น type str"
   ]
  },
  {
   "cell_type": "code",
   "execution_count": null,
   "metadata": {},
   "outputs": [],
   "source": [
    "# ใช้คำสั่ง str() แปลงข้อมูลจาก int หรือ float เป็น str\n",
    "age = 20\n",
    "score = 94.27\n",
    "print( \"I am \" + str(age) + \" years old, and I got \" + str(score) + \" scores.\" )"
   ]
  },
  {
   "cell_type": "markdown",
   "metadata": {},
   "source": [
    "### คำสั่งตรวจสอบชนิดข้อมูล ###\n",
    "\n",
    "`type(x)` คืนค่า (return) ชนิดข้อมูลของ x"
   ]
  },
  {
   "cell_type": "code",
   "execution_count": null,
   "metadata": {},
   "outputs": [],
   "source": [
    "print( type(0) )\n",
    "print( type(0.5) )\n",
    "print( type('-0.5') )"
   ]
  },
  {
   "cell_type": "code",
   "execution_count": null,
   "metadata": {},
   "outputs": [],
   "source": [
    "x = -15\n",
    "print( type(x) )\n",
    "x = print()\n",
    "print( type(x) )"
   ]
  },
  {
   "cell_type": "markdown",
   "metadata": {},
   "source": [
    "> ตัวแปรในภาษา Python (และบางภาษาเช่น JavaScript, PHP) สามารถเปลี่ยนชนิดของข้อมูลที่เก็บไว้ \n",
    ">\n",
    "> แต่ในอีกหลายภาษา (เช่น C, Java) จะเปลี่ยนชนิดของข้อมูลที่ตัวแปรเก็บไว้ไม่ได้"
   ]
  },
  {
   "cell_type": "markdown",
   "metadata": {},
   "source": [
    "-------------\n",
    "\n",
    "-------------"
   ]
  },
  {
   "cell_type": "markdown",
   "metadata": {},
   "source": [
    "# ส่วนวิเคราะห์การทำงาน (Process) #\n",
    "1. การกำหนด (assign) ค่าให้ตัวแปร\n",
    "2. การดำเนินการของจำนวน (int, float)\n",
    "3. การดำเนินการของ str เบื้องต้น"
   ]
  },
  {
   "cell_type": "markdown",
   "metadata": {},
   "source": [
    "### 1. การกำหนด (assign) ค่าให้ตัวแปร ###\n",
    "> ใช้เครื่องหมาย `=` ในการกำหนดค่าให้ตัวแปร โดยตัวแปรที่จะใช้เก็บค่าอยู่ทางด้านซ้ายของเครื่องหมาย `=`\n",
    "เช่น\n",
    "```python\n",
    "a = 30\n",
    "a = a + 1\n",
    "doubleA = a * 2\n",
    "cubeA = a ** 3\n",
    "```"
   ]
  },
  {
   "cell_type": "markdown",
   "metadata": {},
   "source": [
    "### 2. การดำเนินการของจำนวน (int, float) ###\n",
    "\n",
    "2.1 Arithmetic Operators\n",
    "\n",
    "| การดำเนินการ | ตัวดำเนินการ (Operator) | ตัวอย่าง |\n",
    "|-----------|-----------|-----------|\n",
    "| การบวก | `+` | `11.25 + 5 + 15.14`|\n",
    "| การลบ | `-` | `100 - 7.5` |\n",
    "| การคูณ | `*` | `2 * 3.14 * 1`|\n",
    "| ยกกำลัง | `**` | `4 ** 12.5` |\n",
    "| การหาร |\n",
    "| การหารจำนวนจริง | `/` | `22 / 13` <br> `22.15 / 13` |\n",
    "| การหารไม่เอาเศษ | `//` | `22 // 13` <br> `22.15 // 13` |\n",
    "| การหารเอาเศษ (modulo) | `%` | `22 % 13` <br> `22.15 % 13` |\n",
    "\n",
    "2.2 Functions\n",
    "\n",
    "| Function | คำอธิบาย | ตัวอย่าง | ผลการใช้ฟังก์ชัน\n",
    "|-----------|-----------|-----------|-----|\n",
    "| `round(x)` | คืนค่า (return) จำนวนเต็มที่ใกล้จำนวนจริง `x` ที่สุด | `round(11.25)` | `11` |\n",
    "| `abs(x)` | คืนค่า (return) ค่าสัมบูรณ์ของจำนวนจริง `x` | `abs(-15)` | `15` |\n",
    "| `pow(x, y)` | คืนค่า (return) ค่า $ x ^ y $ | `pow(2, 10)` | `1024` | "
   ]
  },
  {
   "cell_type": "markdown",
   "metadata": {},
   "source": [
    "### 3. การดำเนินการของ str เบื้องต้น ###\n",
    "3.1 str กับ str\n",
    "\n",
    "| การดำเนินการ | เครื่องหมาย | ตัวอย่าง |\n",
    "|-----------|-----------|-----------|\n",
    "| การต่อ str (concatenate) | `+` | `'We ' + 'love ' + 'Python'`|\n",
    "\n",
    "3.2 str กับ int\n",
    "\n",
    "| การดำเนินการ | เครื่องหมาย | ตัวอย่าง |\n",
    "|-----------|-----------|-----------|\n",
    "| การต่อ str ซ้ำหลายรอบ | `*` | `'un' * 3` <br> `5 * \"A\"` |\n"
   ]
  },
  {
   "cell_type": "markdown",
   "metadata": {},
   "source": [
    "------\n",
    "\n",
    "------"
   ]
  },
  {
   "cell_type": "markdown",
   "metadata": {},
   "source": [
    "# ส่วนแสดงผลการทำงาน (Output) #\n",
    "คำสั่ง `print()` ใช้แสดงข้อมูลออกทางจอภาพ\n",
    "> จบการแสดงผลด้วยคำสั่ง `print()` 1 ครั้ง จะขึ้นบรรทัดใหม่ 1 ที"
   ]
  },
  {
   "cell_type": "code",
   "execution_count": null,
   "metadata": {},
   "outputs": [],
   "source": [
    "# ตัวอย่างการใช้คำสั่ง print()\n",
    "print( 1 + 1 )\n",
    "print(2560)"
   ]
  },
  {
   "cell_type": "code",
   "execution_count": null,
   "metadata": {
    "scrolled": true
   },
   "outputs": [],
   "source": [
    "# เครื่องหมาย + ใช้ระหว่างจำนวนด้วยกัน หรือระหว่าง String ด้วยกันเท่านั้น\n",
    "# ถ้าใช้ระหว่างจำนวนกับ String จะเกิด error\n",
    "\n",
    "print( \"Welcome to \" + 2017)\n",
    "\n",
    "# แก้ไขอย่างไร?"
   ]
  },
  {
   "cell_type": "code",
   "execution_count": null,
   "metadata": {},
   "outputs": [],
   "source": [
    "## ส่ง data type ต่างกัน ด้วย parameter ต่างกัน\n",
    "\n",
    "print( \"Welcome to \", 2017) # สังเกตเครื่องหมาย ,\n",
    "\n",
    "name = input(\"Enter your name: \")\n",
    "age = int(input(\"Enter your age: \"))\n",
    "\n",
    "print( \"I am\", name, \"and I am\", age, \"years old.\")\n",
    "print( \"I am \" + name + \" and I am \" + str(age) + \" years old.\")"
   ]
  },
  {
   "cell_type": "markdown",
   "metadata": {},
   "source": [
    "> การวิเคราะห์และแสดงผลอาจรวมเป็นส่วนเดียวกันได้"
   ]
  },
  {
   "cell_type": "markdown",
   "metadata": {},
   "source": [
    "หากไม่ต้องการให้ขึ้นบรรทัดใหม่หลังคำสั่ง `print()` ให้ส่ง parameter `end` ไปด้วย"
   ]
  },
  {
   "cell_type": "code",
   "execution_count": null,
   "metadata": {},
   "outputs": [],
   "source": [
    "print(\"I am\", end=' ')\n",
    "print(name, end='.\\n')\n",
    "print(\"I am \", end='')\n",
    "print(age, end=' ')\n",
    "print(\"years old.\")"
   ]
  },
  {
   "cell_type": "markdown",
   "metadata": {},
   "source": [
    "------\n",
    "\n",
    "------"
   ]
  },
  {
   "cell_type": "markdown",
   "metadata": {},
   "source": [
    "## 🔬 ห้องทดลอง ##\n",
    "\n",
    "ให้ลองทดสอบข้อมูลกับ operators โดยสังเกตว่า ชนิดของข้อมูลใดบ้าง ที่ดำเนินการได้กับ operator ใดบ้าง และได้ผลลัพธ์เป็นข้อมูลชนิดใด"
   ]
  },
  {
   "cell_type": "markdown",
   "metadata": {},
   "source": [
    "------\n",
    "\n",
    "------"
   ]
  },
  {
   "cell_type": "markdown",
   "metadata": {},
   "source": [
    "## ตัวอย่างโปรแกรม ##"
   ]
  },
  {
   "cell_type": "markdown",
   "metadata": {},
   "source": [
    "📃 1\\. วัตถุชิ้นหนึ่ง เคลื่อนที่จากสภาพหยุดนิ่งด้วยความเร่ง `a` ${m/s^2}$ เป็นเวลา `t` วินาที<br>\n",
    "เขียนโปรแกรมเพื่อรับความเร่ง และเวลา จากนั้นคำนวณระยะที่วัตถุเคลื่อนที่ไปได้<br>\n",
    "สูตรคำนวณ $ S = ut + \\frac{1}{2} at^2 $"
   ]
  },
  {
   "cell_type": "code",
   "execution_count": null,
   "metadata": {
    "collapsed": true
   },
   "outputs": [],
   "source": [
    "# Input\n",
    "a = float(input(\"Enter acceleration: \"))\n",
    "t = float(input(\"Enter time: \"))\n",
    "\n",
    "# Process\n",
    "s = (1/2) * a * (t**2)\n",
    "\n",
    "# Output\n",
    "print(\"Distance:\", s)"
   ]
  },
  {
   "cell_type": "markdown",
   "metadata": {},
   "source": [
    "📃 2\\. เขียนโปรแกรมเพื่อคำนวณพื้นที่สามเหลี่ยม เมื่อรับความยาวฐาน และส่วนสูงของสามเหลี่ยม เป็นจำนวนเต็ม"
   ]
  },
  {
   "cell_type": "code",
   "execution_count": null,
   "metadata": {
    "collapsed": true
   },
   "outputs": [],
   "source": [
    "# Input\n",
    "base = int(input(\"Enter base: \"))\n",
    "height = int(input(\"Enter height: \"))\n",
    "\n",
    "# Process\n",
    "area = (1/2) * base * height\n",
    "\n",
    "#Output\n",
    "print(\"Triangle area is\", area)"
   ]
  },
  {
   "cell_type": "markdown",
   "metadata": {},
   "source": [
    "📃 3\\. เขียนโปรแกรมเพื่อรับจำนวนเต็ม ซึ่งเป็นความยาวมีหน่วยเป็นนิ้ว จากนั้น หาว่าความยาวนั้นเท่ากับกี่ฟุต กี่นิ้ว"
   ]
  },
  {
   "cell_type": "code",
   "execution_count": null,
   "metadata": {
    "collapsed": true
   },
   "outputs": [],
   "source": [
    "# Input\n",
    "length = int(input(\"Enter length in inch\"))\n",
    "\n",
    "# Process\n",
    "feet = length // 12\n",
    "inch = length % 12\n",
    "\n",
    "# Output\n",
    "print(\"It is\", feet, \"feet,\", inch, \"inch.\")"
   ]
  },
  {
   "cell_type": "markdown",
   "metadata": {},
   "source": [
    "## _(Your Turn)_ 🌱 ##\n",
    "\n",
    "📃 เขียนโปรแกรมเพื่อแปลงหน่วยองศาเซลเซียส เป็นหน่วยองศาฟาเรนไฮต์<br>\n",
    "โดยรับจำนวนจริง (ทศนิยม) 1 จำนวน ซึ่งเป็น อุณหภูมิในหน่วยองศาเซลเซียส<br>\n",
    "สูตรคำนวณ $ \\frac{C}{5} = \\frac{F-32}{9} $\n",
    "\n",
    "   `C` คือ อุณหภูมิหน่วย celsius<br>\n",
    "   `F` คือ อุณหภูมิหน่วย fahrenheit\n",
    "\n",
    "ตัวอย่างโปรแกรม\n",
    "\n",
    "> Enter Celsius: 30.5<br>\n",
    "> 30.5 Celsius is 86.9 Fahrenheit\n",
    "\n"
   ]
  },
  {
   "cell_type": "code",
   "execution_count": null,
   "metadata": {
    "collapsed": true
   },
   "outputs": [],
   "source": [
    "# Your Code here\n",
    "\n",
    "\n",
    "\n",
    "\n",
    "\n",
    "\n",
    "\n",
    "\n",
    "\n",
    "\n",
    "\n",
    "\n",
    "\n",
    "\n",
    "\n",
    "\n",
    "\n"
   ]
  },
  {
   "cell_type": "markdown",
   "metadata": {},
   "source": [
    "# 🤔 คำถามชวนคิด #"
   ]
  },
  {
   "cell_type": "markdown",
   "metadata": {},
   "source": [
    "💭 ตัวแปรในคณิตศาสตร์ กับตัวแปรในการเขียนโปรแกรม เหมือนหรือต่างกันอย่างไร"
   ]
  },
  {
   "cell_type": "markdown",
   "metadata": {},
   "source": [
    "💭 การตั้งชื่อตัวแปรที่เหมาะสมเป็นอย่างไร ทำไมจึงต้องตั้งชื่อตัวแปรให้เหมาะสม"
   ]
  },
  {
   "cell_type": "markdown",
   "metadata": {},
   "source": [
    "💭 ในการเขียนโปรแกรมใดโปรแกรมหนึ่ง เมื่อใดบ้างที่จะต้องสร้างตัวแปร"
   ]
  },
  {
   "cell_type": "markdown",
   "metadata": {},
   "source": [
    "💭 ทำไมจึงแบ่งการเขียนโปรแกรมเป็น 3 ส่วน คือ Input > Process > Output"
   ]
  }
 ],
 "metadata": {
  "kernelspec": {
   "display_name": "Python 3",
   "language": "python",
   "name": "python3"
  },
  "language_info": {
   "codemirror_mode": {
    "name": "ipython",
    "version": 3
   },
   "file_extension": ".py",
   "mimetype": "text/x-python",
   "name": "python",
   "nbconvert_exporter": "python",
   "pygments_lexer": "ipython3",
   "version": "3.7.6"
  }
 },
 "nbformat": 4,
 "nbformat_minor": 2
}
