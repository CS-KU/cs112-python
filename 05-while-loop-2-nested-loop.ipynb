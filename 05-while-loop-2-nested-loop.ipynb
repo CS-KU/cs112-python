{
 "cells": [
  {
   "cell_type": "markdown",
   "metadata": {
    "collapsed": true
   },
   "source": [
    "# การวนซ้ำซ้อน (Nested Loop) #\n",
    "\n",
    "> Loop ซ้อน Loop\n",
    "\n",
    "ตัวแปรนับจำนวนรอบ (control variable) ต้องใช้ต่างกันระหว่าง loop นอก และ loop ใน"
   ]
  },
  {
   "cell_type": "markdown",
   "metadata": {},
   "source": [
    "รูปแบบโจทย์ที่มักเจอได้บ่อย\n",
    "\n",
    "* Loop นอก รับ input เรื่อย ๆ จนกว่าจะถึงค่าหนึ่ง เพื่อมาตรวจสอบค่าผ่านวิธีบางอย่างด้วย loop ใน\n",
    "* รับ input มาจำนวนหนึ่ง เพื่อกำหนดจำนวนรอบของ loop นอก แต่ละรอบทำงานบางอย่างที่ต้องใช้ loop\n",
    "* การทำงานกับทุกข้อมูลใน list ของ list\n",
    "* การทำงานกับทุกตัวอักษรของ string ที่อยู่ใน list\n",
    "* การคำนวณบางรูปแบบที่จำเป็นต้องใช้ loop ซ้อน"
   ]
  },
  {
   "cell_type": "markdown",
   "metadata": {},
   "source": [
    "**ตัวอย่าง 1** สูตรคูณ\n",
    "\n",
    "รับจำนวนเต็มบวกมาหนึ่งจำนวน แล้วพิมพ์สูตรคูณตั้งแต่แม่ 2 ถึงจำนวนเต็มบวกที่รับเข้ามา\n",
    "\n",
    "***วิเคราะห์***\n",
    "\n",
    "1. INPUT: รับจำนวนเต็มบวก x\n",
    "2. PROCESS: Loop นอก จะวนจำนวนตั้งแต่ 2 ถึง x ด้วยตัวแปร i แต่ละรอบ i จะเพิ่มค่าทีละ 1\n",
    "3. PROCESS + OUTPUT: Loop ใน จะวนจำนวนตั้งแต่ 1 ถึง 12 ด้วยตัวแปร j แต่ละรอบแสดงผลคูณ `i*j` และ j จะเพิ่มค่าที่ละ 1 "
   ]
  },
  {
   "cell_type": "code",
   "execution_count": null,
   "metadata": {
    "collapsed": true
   },
   "outputs": [],
   "source": [
    "x = int(input())\n",
    "i = 2\n",
    "while (i <= x):\n",
    "    j = 1\n",
    "    while (j <= 12):\n",
    "        print(\"%d x %d = %d\" % (i, j, i*j))\n",
    "        j += 1\n",
    "    print('-' * 16)\n",
    "    i += 1"
   ]
  },
  {
   "cell_type": "markdown",
   "metadata": {},
   "source": [
    "**ตัวอย่าง 2** สามเหลี่ยมกลับหัว\n",
    "\n",
    "พิมพ์รูปสามเหลี่ยมมุมฉากหน้าจั่วกลับหัวตามตัวอย่าง โดยรับความยาวด้านประกอบมุมฉากเป็นจำนวนเต็มบวก<br>\n",
    "กำหนดให้ใช้คำสั่ง `print('*', end='')` และคำสั่ง `print()` ในการแสดงผล ได้เพียงอย่าง 1 คำสั่งเท่านั้น\n",
    "\n",
    "ตัวอย่างผลลัพธ์ เมื่อรับข้อมูลเป็น 5\n",
    "<pre>\n",
    "*****\n",
    "****\n",
    "***\n",
    "**\n",
    "*\n",
    "</pre>\n",
    "\n",
    "ตัวอย่างผลลัพธ์ เมื่อรับข้อมูลเป็น 10\n",
    "<pre>\n",
    "**********\n",
    "*********\n",
    "********\n",
    "*******\n",
    "******\n",
    "*****\n",
    "****\n",
    "***\n",
    "**\n",
    "*\n",
    "</pre>"
   ]
  },
  {
   "cell_type": "markdown",
   "metadata": {},
   "source": [
    "***วิเคราะห์***\n",
    "\n",
    "1. INPUT: รับจำนวนเต็มบวก x\n",
    "2. PROCESS: Loop นอก เป็นจำนวนแถว จะวนจำนวนตั้งแต่ x ถึง 1 ด้วยตัวแปร i แต่ละรอบ i จะลดค่าทีละ 1 และแสดงบรรทัดใหม่ก่อนจบแต่ละรอบ\n",
    "3. PROCESS + OUTPUT: Loop ใน แต่ละแถว จะวนจำนวนตั้งแต่ 1 ถึง i ด้วยตัวแปร j แต่ละรอบแสดง `*` 1 ตัว และ j จะเพิ่มค่าที่ละ 1"
   ]
  },
  {
   "cell_type": "code",
   "execution_count": null,
   "metadata": {},
   "outputs": [],
   "source": [
    "x = int(input())\n",
    "i = x\n",
    "while (i >= 1):\n",
    "    j = 1\n",
    "    while (j <= i):\n",
    "        print('*', end='')\n",
    "        j += 1\n",
    "    print()\n",
    "    i -= 1"
   ]
  }
 ],
 "metadata": {
  "kernelspec": {
   "display_name": "Python 3.6",
   "language": "python",
   "name": "python36"
  },
  "language_info": {
   "codemirror_mode": {
    "name": "ipython",
    "version": 3
   },
   "file_extension": ".py",
   "mimetype": "text/x-python",
   "name": "python",
   "nbconvert_exporter": "python",
   "pygments_lexer": "ipython3",
   "version": "3.6.0"
  }
 },
 "nbformat": 4,
 "nbformat_minor": 2
}
