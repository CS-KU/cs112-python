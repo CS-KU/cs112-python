{
 "cells": [
  {
   "cell_type": "markdown",
   "metadata": {
    "collapsed": true
   },
   "source": [
    "# String 1 - Operators #"
   ]
  },
  {
   "cell_type": "markdown",
   "metadata": {},
   "source": [
    "## String Data Type ##"
   ]
  },
  {
   "cell_type": "markdown",
   "metadata": {},
   "source": [
    "### 1. Single Quote ###\n",
    "\n",
    "```python\n",
    "str1 = 'Single Quote'\n",
    "print(str1)\n",
    "```"
   ]
  },
  {
   "cell_type": "markdown",
   "metadata": {},
   "source": [
    "### 2. Double Quote ###\n",
    "```python\n",
    "str2 = \"Double Quote\"\n",
    "print(str2)\n",
    "```"
   ]
  },
  {
   "cell_type": "code",
   "execution_count": null,
   "metadata": {
    "collapsed": true
   },
   "outputs": [],
   "source": [
    "# Escaped String \n",
    "# Single Quote in Single Quote\n",
    "escaped_str1 = 'I don\\'t hate Python.'\n",
    "print(escaped_str1)"
   ]
  },
  {
   "cell_type": "code",
   "execution_count": null,
   "metadata": {
    "collapsed": true
   },
   "outputs": [],
   "source": [
    "# Escaped String \n",
    "# Double Quote in Double Quote\n",
    "escaped_str2 = \"She said: \\\"I love Python.\\\"\"\n",
    "print(escaped_str2)"
   ]
  },
  {
   "cell_type": "code",
   "execution_count": null,
   "metadata": {
    "collapsed": true,
    "scrolled": true
   },
   "outputs": [],
   "source": [
    "# Single Quote in Double Quote\n",
    "escaped_str3 = \"It can't jump over Python.\"\n",
    "print(escaped_str3)"
   ]
  },
  {
   "cell_type": "code",
   "execution_count": null,
   "metadata": {
    "collapsed": true
   },
   "outputs": [],
   "source": [
    "escaped_str4 = 'Line 1\\nLine 2'\n",
    "print(escaped_str4)\n",
    "print('-' * 20)\n",
    "escaped_str5 = \"Column 1\\tColumn 2\"\n",
    "print(escaped_str5)\n",
    "print('-' * 20)\n",
    "escaped_str6 = \"How can you keep '\\\\n' or '\\\\t' in string\"\n",
    "print(escaped_str6)"
   ]
  },
  {
   "cell_type": "markdown",
   "metadata": {},
   "source": [
    "### 3. Triple Quote ###"
   ]
  },
  {
   "cell_type": "code",
   "execution_count": null,
   "metadata": {
    "collapsed": true
   },
   "outputs": [],
   "source": [
    "text = '''A string in triple qoutes can extend\n",
    "over multiple lines like this one, \n",
    "or use (\\\\n)\\n will enter a new line\n",
    "and can contain 'single' or \"double\" qoutes.'''\n",
    "print(text)"
   ]
  },
  {
   "cell_type": "markdown",
   "metadata": {},
   "source": [
    "--------------\n",
    "\n",
    "--------------"
   ]
  },
  {
   "cell_type": "markdown",
   "metadata": {},
   "source": [
    "## String Operators ##\n"
   ]
  },
  {
   "cell_type": "markdown",
   "metadata": {},
   "source": [
    "### 1. Concatenation (ต่อ String) ###\n",
    "> operator: `+`"
   ]
  },
  {
   "cell_type": "code",
   "execution_count": null,
   "metadata": {
    "collapsed": true
   },
   "outputs": [],
   "source": [
    "print(\"Safari\" + \"World\")"
   ]
  },
  {
   "cell_type": "code",
   "execution_count": null,
   "metadata": {
    "collapsed": true
   },
   "outputs": [],
   "source": [
    "place = \"Safari\" + ' ' + \"World\"\n",
    "print(place)"
   ]
  },
  {
   "cell_type": "markdown",
   "metadata": {},
   "source": [
    "### 2. Repetition ###\n",
    "\n",
    "> operator: `*`"
   ]
  },
  {
   "cell_type": "code",
   "execution_count": null,
   "metadata": {
    "collapsed": true
   },
   "outputs": [],
   "source": [
    "print('un' * 3)"
   ]
  },
  {
   "cell_type": "code",
   "execution_count": null,
   "metadata": {
    "collapsed": true
   },
   "outputs": [],
   "source": [
    "print('un' * 3 + 'ium')"
   ]
  },
  {
   "cell_type": "code",
   "execution_count": null,
   "metadata": {
    "collapsed": true
   },
   "outputs": [],
   "source": [
    "print('un' + 'ium' * 3)"
   ]
  },
  {
   "cell_type": "markdown",
   "metadata": {},
   "source": [
    "### 3. Indexing (Access index of String) ###\n",
    "> operator `[]`\n",
    "\n",
    "Index ของ String เริ่มต้นที่ 0"
   ]
  },
  {
   "cell_type": "code",
   "execution_count": null,
   "metadata": {
    "collapsed": true
   },
   "outputs": [],
   "source": [
    "print(\"Python\"[0])"
   ]
  },
  {
   "cell_type": "markdown",
   "metadata": {},
   "source": [
    "![String Indexing 1](http://sukreep.cs.sci.ku.ac.th/114/img/StringIndex-front.png \"String Indexing 1\")"
   ]
  },
  {
   "cell_type": "code",
   "execution_count": null,
   "metadata": {
    "collapsed": true
   },
   "outputs": [],
   "source": [
    "sentence = \"Fundamental Programming Concept\"\n",
    "print(sentence[0], sentence[10])"
   ]
  },
  {
   "cell_type": "markdown",
   "metadata": {},
   "source": [
    "![String Indexing 2](http://sukreep.cs.sci.ku.ac.th/114/img/StringIndex-rear.png \"String Indexing 2\")"
   ]
  },
  {
   "cell_type": "code",
   "execution_count": null,
   "metadata": {
    "collapsed": true
   },
   "outputs": [],
   "source": [
    "sentence = \"Fundamental Programming Concept\"\n",
    "print(sentence[-1], sentence[-10])"
   ]
  },
  {
   "cell_type": "markdown",
   "metadata": {},
   "source": [
    "*** String index out of range ***\n",
    "> การ access index ของ String ที่ไม่มี index นั้นอยู่"
   ]
  },
  {
   "cell_type": "code",
   "execution_count": null,
   "metadata": {
    "collapsed": true
   },
   "outputs": [],
   "source": [
    "sentence = \"Fundamental Programming Concept\"\n",
    "print(sentence[31])"
   ]
  },
  {
   "cell_type": "code",
   "execution_count": null,
   "metadata": {
    "collapsed": true
   },
   "outputs": [],
   "source": [
    "sentence = \"Fundamental Programming Concept\"\n",
    "print(sentence[-32])"
   ]
  },
  {
   "cell_type": "markdown",
   "metadata": {},
   "source": [
    "### 4. Slicing (หั่น String) ###\n",
    "> operator: `[:]`"
   ]
  },
  {
   "cell_type": "code",
   "execution_count": null,
   "metadata": {
    "collapsed": true,
    "scrolled": true
   },
   "outputs": [],
   "source": [
    "print(\"Python\"[2:4])"
   ]
  },
  {
   "cell_type": "markdown",
   "metadata": {},
   "source": [
    "![String Slicing](http://sukreep.cs.sci.ku.ac.th/114/img/StringSlicing.png \"String Slicing\")\n",
    "\n",
    "> [start:end:step]"
   ]
  },
  {
   "cell_type": "code",
   "execution_count": null,
   "metadata": {
    "collapsed": true
   },
   "outputs": [],
   "source": [
    "sentence = \"Fundamental Programming Concept\"\n",
    "print(1, sentence[12:23])\n",
    "print(2, sentence[-19:-8])"
   ]
  },
  {
   "cell_type": "code",
   "execution_count": null,
   "metadata": {
    "collapsed": true
   },
   "outputs": [],
   "source": [
    "sentence = \"Fundamental Programming Concept\"\n",
    "print(sentence[0:5], sentence[12: 12 + 4], sentence[-7:])"
   ]
  },
  {
   "cell_type": "code",
   "execution_count": null,
   "metadata": {
    "collapsed": true
   },
   "outputs": [],
   "source": [
    "# default start is 0\n",
    "sentence = \"Fundamental Programming Concept\"\n",
    "print(1, sentence[:11])\n",
    "print(2, sentence[:23])\n",
    "print(3, sentence[:31])"
   ]
  },
  {
   "cell_type": "code",
   "execution_count": null,
   "metadata": {
    "collapsed": true
   },
   "outputs": [],
   "source": [
    "# default step is 1\n",
    "sentence = \"Fundamental Programming Concept\"\n",
    "print(1, sentence[12:23:])\n",
    "print(2, sentence[12:23:1])\n",
    "print(3, sentence[12:23:2])\n",
    "print(4, sentence[:])"
   ]
  },
  {
   "cell_type": "code",
   "execution_count": null,
   "metadata": {},
   "outputs": [],
   "source": [
    "# default end is length of string + 1 if step is positive\n",
    "sentence = \"Fundamental Programming Concept\"\n",
    "print(1, sentence[0:])\n",
    "print(2, sentence[12:])\n",
    "print(3, sentence[24:])\n",
    "print(4, sentence[12::3])"
   ]
  },
  {
   "cell_type": "code",
   "execution_count": null,
   "metadata": {},
   "outputs": [],
   "source": [
    "# default end is before 0 if step is negative\n",
    "sentence = \"Fundamental Programming Concept\"\n",
    "print(1, sentence[0::-1])\n",
    "print(2, sentence[12::-1])\n",
    "print(3, sentence[24::-1])\n",
    "print(4, sentence[12::-2])"
   ]
  },
  {
   "cell_type": "markdown",
   "metadata": {},
   "source": [
    "![String Slicing](http://sukreep.cs.sci.ku.ac.th/114/img/StringSlicing.png \"String Slicing\")\n",
    "\n",
    "> [start:end:step]"
   ]
  },
  {
   "cell_type": "code",
   "execution_count": null,
   "metadata": {
    "collapsed": true
   },
   "outputs": [],
   "source": [
    "sentence = \"Fundamental Programming Concept\"\n",
    "print(1, sentence[12:23:-1])\n",
    "print(2, sentence[22:11:-1])"
   ]
  },
  {
   "cell_type": "code",
   "execution_count": null,
   "metadata": {
    "collapsed": true
   },
   "outputs": [],
   "source": [
    "sentence = \"Fundamental Programming Concept\"\n",
    "print(1, sentence[-1:-7:-1])\n",
    "print(2, sentence[-1:-8:-1])"
   ]
  },
  {
   "cell_type": "markdown",
   "metadata": {},
   "source": [
    "### 5. ตรวจสอบว่ามีใน String ###\n",
    "\n",
    "> ตรวจสอบว่า มี ใช้ operator: `in`\n",
    ">\n",
    "> ตรวจสอบว่า ไม่มี ใช้ operator: `not in`"
   ]
  },
  {
   "cell_type": "code",
   "execution_count": null,
   "metadata": {
    "collapsed": true
   },
   "outputs": [],
   "source": [
    "print(\"P\" in \"Python\")\n",
    "print(\"p\" in \"Python\")\n",
    "print(\"T\" in \"Python\")\n",
    "print(\"t\" in \"Python\")"
   ]
  },
  {
   "cell_type": "code",
   "execution_count": null,
   "metadata": {
    "collapsed": true
   },
   "outputs": [],
   "source": [
    "print(\"P\" not in \"Python\")\n",
    "print(\"p\" not in \"Python\")\n",
    "print(\"T\" not in \"Python\")\n",
    "print(\"t\" not in \"Python\")"
   ]
  },
  {
   "cell_type": "code",
   "execution_count": null,
   "metadata": {
    "collapsed": true
   },
   "outputs": [],
   "source": [
    "print(not (\"P\" in \"Python\"))\n",
    "print(not (\"p\" in \"Python\"))\n",
    "print(not (\"T\" in \"Python\"))\n",
    "print(not (\"t\" in \"Python\"))"
   ]
  },
  {
   "cell_type": "code",
   "execution_count": null,
   "metadata": {
    "collapsed": true
   },
   "outputs": [],
   "source": [
    "print(not \"P\" in \"Python\")\n",
    "print(not \"p\" in \"Python\")\n",
    "print(not \"T\" in \"Python\")\n",
    "print(not \"t\" in \"Python\")"
   ]
  },
  {
   "cell_type": "markdown",
   "metadata": {},
   "source": [
    "ตรวจสอบอักขระที่รับเข้ามา เป็น A หรือ a"
   ]
  },
  {
   "cell_type": "code",
   "execution_count": null,
   "metadata": {},
   "outputs": [],
   "source": [
    "choice = input(\"Select menu (A, B): \")\n",
    "if (choice in 'Aa'):\n",
    "    print('This is menu A')\n",
    "elif (choice in 'Bb'):\n",
    "    print('This is menu B')\n",
    "else:\n",
    "    print('Invalid menu: neither A nor B')"
   ]
  },
  {
   "cell_type": "markdown",
   "metadata": {},
   "source": [
    "---------\n",
    "\n",
    "---------"
   ]
  },
  {
   "cell_type": "markdown",
   "metadata": {},
   "source": [
    "## `for` *character* `in` *String*  ##"
   ]
  },
  {
   "cell_type": "code",
   "execution_count": null,
   "metadata": {},
   "outputs": [],
   "source": [
    "for letter in 'Python':\n",
    "    print('Current Letter:', letter)"
   ]
  },
  {
   "cell_type": "code",
   "execution_count": null,
   "metadata": {},
   "outputs": [],
   "source": [
    "sentence = \"Fundamental Programming Concept\"\n",
    "for ch in sentence:\n",
    "    print(ch, end='|')"
   ]
  },
  {
   "cell_type": "code",
   "execution_count": null,
   "metadata": {},
   "outputs": [],
   "source": [
    "sentence = \"Fundamental Programming Concept\"\n",
    "for ch in sentence[12:]:\n",
    "    print(ch, end='|')"
   ]
  },
  {
   "cell_type": "code",
   "execution_count": null,
   "metadata": {},
   "outputs": [],
   "source": [
    "sentence = \"Fundamental Programming Concept\"\n",
    "for ch in sentence[12::-1]:\n",
    "    print(ch, end='|')"
   ]
  },
  {
   "cell_type": "markdown",
   "metadata": {},
   "source": [
    "----------\n",
    "\n",
    "----------"
   ]
  },
  {
   "cell_type": "markdown",
   "metadata": {},
   "source": [
    "## Immutable Strings ##\n",
    "* mutate, mutant แปลว่า กลายพันธุ์\n",
    "* im เป็น prefix แปลว่า ไม่\n",
    "* able เป็น subfix แปลว่า สามารถ\n",
    "\n",
    "> อักขระใน String ไม่สามารถเปลี่ยนแปลงค่าได้"
   ]
  },
  {
   "cell_type": "code",
   "execution_count": null,
   "metadata": {
    "scrolled": true
   },
   "outputs": [],
   "source": [
    "s = \"Strings are immutable!\"\n",
    "s[-1] = '.'\n",
    "# จะเห็นว่าเกิด Error เพราะ String เปลี่ยนแปลงค่าไม่ได้\n",
    "print(s)"
   ]
  },
  {
   "cell_type": "code",
   "execution_count": null,
   "metadata": {},
   "outputs": [],
   "source": [
    "s = \"Strings are immutable!\"\n",
    "s = 'Fundamental Programming Concept'\n",
    "# กำหนดค่าใหม่ ให้กับตัวแปร s ทำได้ (ไม่ใช่การแก้ไขค่าใน String เดิม)\n",
    "print(s)"
   ]
  }
 ],
 "metadata": {
  "kernelspec": {
   "display_name": "Python 3.6",
   "language": "python",
   "name": "python36"
  },
  "language_info": {
   "codemirror_mode": {
    "name": "ipython",
    "version": 3
   },
   "file_extension": ".py",
   "mimetype": "text/x-python",
   "name": "python",
   "nbconvert_exporter": "python",
   "pygments_lexer": "ipython3",
   "version": "3.6.0"
  }
 },
 "nbformat": 4,
 "nbformat_minor": 2
}
