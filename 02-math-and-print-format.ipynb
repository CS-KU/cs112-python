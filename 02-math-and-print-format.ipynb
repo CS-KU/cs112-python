{
 "cells": [
  {
   "cell_type": "markdown",
   "metadata": {
    "collapsed": true
   },
   "source": [
    "# Module `math` #\n",
    "\n",
    "Python มี Module `math` ช่วยในการวิเคราะห์ข้อมูลหรือการคำนวณทางคณิตศาสตร์\n",
    "\n",
    "ส่วนใหญ่แล้วจะใช้ Module `math` ในส่วน **Process**\n",
    "\n",
    "เริ่มต้นใช้งานโดย import module math นี้ ที่บรรทัดแรกของโค้ด"
   ]
  },
  {
   "cell_type": "code",
   "execution_count": null,
   "metadata": {
    "collapsed": true
   },
   "outputs": [],
   "source": [
    "import math"
   ]
  },
  {
   "cell_type": "markdown",
   "metadata": {},
   "source": [
    "## `math` Constants ##\n",
    "\n",
    "Module `math` มีค่าคงที่ที่ใช้ในการคำนวณทางคณิตศาสตร์ เช่น\n",
    "\n",
    "| module `math` | คำอธิบาย |\n",
    "| ---- | ---- |\n",
    "| `math.pi` | ค่า pi ($ \\pi = 3.141592653589793... $) |\n",
    "| `math.e` | ค่า e ($ e = 2.718281828459045... $) |\n",
    "| `math.tau` | ค่า tau ($ \\tau = 6.283185307179586... $) <br> \\**ตั้งแต่ python 3.6* |\n",
    "| `math.inf` | ค่า infinity มี type เป็น float <br> \\**ตั้งแต่ python 3.5* |\n",
    "| `math.nan` | ค่า not a number มี type เป็น float <br> \\**ตั้งแต่ python 3.5* |\n",
    "\n",
    "คำสั่ง `type()` ใช้ตรวจสอบ data type ของค่าที่ต้องการตรวจสอบ เช่น `type(math.inf)`"
   ]
  },
  {
   "cell_type": "code",
   "execution_count": null,
   "metadata": {},
   "outputs": [],
   "source": [
    "print( type(math.inf) )\n",
    "print( math.pi )\n",
    "print( math.pi / 3 )"
   ]
  },
  {
   "cell_type": "markdown",
   "metadata": {},
   "source": [
    "## `math` Functions พื้นฐานที่ใช้บ่อย ##\n",
    "\n",
    "| module `math` | คำอธิบาย | ตัวอย่างการใช้คำสั่ง | ผลการใช้คำสั่ง\n",
    "| ---- | ---- | ---- | ---- |\n",
    "| `math.ceil(x)` | ปัดเศษของจำนวนจริง `x` ขึ้น เป็นจำนวนเต็ม | `math.ceil(3.14)` | `4` |\n",
    "| `math.floor(x)` | ปัดเศษของจำนวนจริง `x` ลง เป็นจำนวนเต็ม | `math.floor(2.93)` | `2` |\n",
    "| `math.fabs(x)` | ค่าสัมบูรณ์ของจำนวนจริง `x` คล้าย `abs(x)` แต่คืนค่าเป็น float | `math.fabs(-14.9)` | `14.9` |\n",
    "| `math.sqrt(x)` | ค่ารากที่สองที่เป็นบวกของจำนวนจริง `x` | `math.sqrt(81)` | `9.0` |\n",
    "\n",
    "ศึกษาฟังก์ชันของ module `math` เพิ่มเติมได้ที่ https://docs.python.org/3/library/math.html"
   ]
  },
  {
   "cell_type": "code",
   "execution_count": null,
   "metadata": {},
   "outputs": [],
   "source": [
    "print( math.ceil(3.14) )\n",
    "print( math.floor(2.93) )\n",
    "print( math.fabs(-14.9) )\n",
    "print( abs(-14.9) )"
   ]
  },
  {
   "cell_type": "code",
   "execution_count": null,
   "metadata": {},
   "outputs": [],
   "source": [
    "print( 3 ** 4 )\n",
    "print( pow(3, 4) )\n",
    "print( math.pow(3, 4) )\n",
    "print( math.sqrt(81) )"
   ]
  },
  {
   "cell_type": "markdown",
   "metadata": {},
   "source": [
    "📃 เขียนโปรแกรมเพื่อรับค่า `r` (รัศมีของฐานทรงกระบอก) และ `h` (ความสูงของทรงกระบอก) <br>\n",
    "จากนั้น คำนวณปริมาตรของทรงกระบอก"
   ]
  },
  {
   "cell_type": "code",
   "execution_count": null,
   "metadata": {
    "collapsed": true
   },
   "outputs": [],
   "source": [
    "import math\n",
    "\n",
    "# Input\n",
    "r = float(input(\"Enter radius: \"))\n",
    "h = float(input(\"Enter height: \"))\n",
    "\n",
    "# Process\n",
    "volumn = math.pi * (r**2) * h\n",
    "\n",
    "# Output\n",
    "print(\"Volumn:\", volumn)"
   ]
  },
  {
   "cell_type": "markdown",
   "metadata": {},
   "source": [
    "## _(Your Turn)_ ##\n",
    "\n",
    "📃 เขียนโปรแกรมเพื่อคำนวณความยาวรอบรูปสามเหลี่ยมมุมฉาก<br>\n",
    "โดยรับจำนวนเต็ม 2 จำนวน ซึ่งเป็นความยาวของด้านประกอบมุมฉากทั้งสองด้าน<br>\n",
    "ตัวอย่าง\n",
    "\n",
    "    Enter length 1: 30\n",
    "    Enter length 2: 40\n",
    "    The perimeter of right triangle is 120.0\n"
   ]
  },
  {
   "cell_type": "code",
   "execution_count": null,
   "metadata": {
    "collapsed": true
   },
   "outputs": [],
   "source": [
    "# Your Code here\n",
    "\n",
    "\n",
    "\n",
    "\n",
    "\n",
    "\n",
    "\n"
   ]
  },
  {
   "cell_type": "markdown",
   "metadata": {},
   "source": [
    "------\n",
    "\n",
    "------"
   ]
  },
  {
   "cell_type": "markdown",
   "metadata": {},
   "source": [
    "# String Formatting #\n",
    "\n",
    "ใช้ operator `%` ในการจัดรูปแบบของ String\n",
    "\n",
    "`\"String with Placeholder\" % (data1, data2)`\n",
    "\n",
    "ส่วนใหญ่จะใช้ String Formatting ในส่วน **Output**"
   ]
  },
  {
   "cell_type": "code",
   "execution_count": null,
   "metadata": {},
   "outputs": [],
   "source": [
    "name = \"Alice\"\n",
    "age = 18\n",
    "my_info = \"My name is %s. I am %d years old. My height is %f\" % (name, age, 1.82)\n",
    "print(my_info)"
   ]
  },
  {
   "cell_type": "markdown",
   "metadata": {},
   "source": [
    "### Placeholder `%d`, `%f`, `%s` ###\n",
    "\n",
    "`%d` สำหรับแทนด้วยจำนวนเต็ม (**d**ecimal) <br>\n",
    "`%f` สำหรับแทนด้วยจำนวนจริง (**f**loating point) <br>\n",
    "`%s` สำหรับแทนด้วยข้อความ (**s**tring) <br>"
   ]
  },
  {
   "cell_type": "code",
   "execution_count": 1,
   "metadata": {},
   "outputs": [
    {
     "name": "stdout",
     "output_type": "stream",
     "text": [
      "I got 80 points in 01418112.\n"
     ]
    }
   ],
   "source": [
    "sentence = \"I got %d points in 01418%d.\" % (80, 112)\n",
    "print(sentence)"
   ]
  },
  {
   "cell_type": "code",
   "execution_count": 2,
   "metadata": {},
   "outputs": [
    {
     "name": "stdout",
     "output_type": "stream",
     "text": [
      "I got 80.000000 points in 01418112.\n"
     ]
    }
   ],
   "source": [
    "sentence = \"I got %f points in 01418%d.\" % (80, 112)\n",
    "print(sentence)"
   ]
  },
  {
   "cell_type": "code",
   "execution_count": 3,
   "metadata": {},
   "outputs": [
    {
     "name": "stdout",
     "output_type": "stream",
     "text": [
      "I got A in Fundamental Programming Concept.\n"
     ]
    }
   ],
   "source": [
    "sentence = \"I got %s in %s.\" % (\"A\", \"Fundamental Programming Concept\")\n",
    "print(sentence)"
   ]
  },
  {
   "cell_type": "code",
   "execution_count": 4,
   "metadata": {},
   "outputs": [
    {
     "name": "stdout",
     "output_type": "stream",
     "text": [
      "Enter your grade: F\n",
      "I wish grade F in 01418112\n"
     ]
    }
   ],
   "source": [
    "grade = input(\"Enter your grade: \")\n",
    "sentence = \"I wish grade %s in 01418112\" % grade\n",
    "print(sentence)"
   ]
  },
  {
   "cell_type": "markdown",
   "metadata": {},
   "source": [
    "### กำหนดความกว้างที่ใช้ในการแทนที่ข้อมูลจากขวาสุด ###\n",
    "\n",
    "`%[width][precision]` `width` เป็นจำนวนเต็ม\n",
    "\n",
    "เช่น `%10d`, `%20s`, `%12f`"
   ]
  },
  {
   "cell_type": "code",
   "execution_count": 7,
   "metadata": {},
   "outputs": [
    {
     "name": "stdout",
     "output_type": "stream",
     "text": [
      "I wish grade  A in 01418112\n",
      "---------------------------\n",
      "I wish grade B+ in 01418112\n"
     ]
    }
   ],
   "source": [
    "grade = 'A'\n",
    "sentence = \"I wish grade %2s in 01418112\" % grade\n",
    "print(sentence)\n",
    "print('-' * 27)\n",
    "grade = 'B+'\n",
    "sentence = \"I wish grade %2s in 01418112\" % grade\n",
    "print(sentence)"
   ]
  },
  {
   "cell_type": "code",
   "execution_count": 18,
   "metadata": {},
   "outputs": [
    {
     "name": "stdout",
     "output_type": "stream",
     "text": [
      "Lay's 29.000000\n",
      "Coca Cola 19.000000\n",
      "Super Size Icecream Bucket -499.000000\n"
     ]
    }
   ],
   "source": [
    "sentence1 = \"%s %f\" % (\"Lay's\", 29)\n",
    "sentence2 = \"%s %f\" % (\"Coca Cola\", 19)\n",
    "sentence3 = \"%s %f\" % (\"Super Size Icecream Bucket\", -499)\n",
    "print(sentence1)\n",
    "print(sentence2)\n",
    "print(sentence3)"
   ]
  },
  {
   "cell_type": "code",
   "execution_count": 19,
   "metadata": {},
   "outputs": [
    {
     "name": "stdout",
     "output_type": "stream",
     "text": [
      "                         Lay's    29.000000\n",
      "                     Coca Cola    19.000000\n",
      "    Super Size Icecream Bucket  -499.000000\n"
     ]
    }
   ],
   "source": [
    "sentence1 = \"%30s %12f\" % (\"Lay's\", 29)\n",
    "sentence2 = \"%30s %12f\" % (\"Coca Cola\", 19)\n",
    "sentence3 = \"%30s %12f\" % (\"Super Size Icecream Bucket\", -499)\n",
    "print(sentence1)\n",
    "print(sentence2)\n",
    "print(sentence3)"
   ]
  },
  {
   "cell_type": "markdown",
   "metadata": {},
   "source": [
    "### Flag `+`, `-`, `0` ใน format ###"
   ]
  },
  {
   "cell_type": "markdown",
   "metadata": {},
   "source": [
    "> Flag `-` ใช้จัดชิดซ้าย"
   ]
  },
  {
   "cell_type": "code",
   "execution_count": 17,
   "metadata": {},
   "outputs": [
    {
     "name": "stdout",
     "output_type": "stream",
     "text": [
      "Lay's                          29.000000   \n",
      "Coca Cola                      19.000000   \n",
      "Super Size Icecream Bucket     -499.000000 \n"
     ]
    }
   ],
   "source": [
    "sentence1 = \"%-30s %-12f\" % (\"Lay's\", 29)\n",
    "sentence2 = \"%-30s %-12f\" % (\"Coca Cola\", 19)\n",
    "sentence3 = \"%-30s %-12f\" % (\"Super Size Icecream Bucket\", -499)\n",
    "print(sentence1)\n",
    "print(sentence2)\n",
    "print(sentence3)"
   ]
  },
  {
   "cell_type": "markdown",
   "metadata": {},
   "source": [
    "> Flag `+` ใช้ใน `%d`, `%f` สำหรับแสดงเครื่องหมาย `+` หน้าจำนวนบวก"
   ]
  },
  {
   "cell_type": "code",
   "execution_count": 20,
   "metadata": {},
   "outputs": [
    {
     "name": "stdout",
     "output_type": "stream",
     "text": [
      "Lay's                            +29.000000\n",
      "Coca Cola                               +19\n",
      "Super Size Icecream Bucket      -499.000000\n"
     ]
    }
   ],
   "source": [
    "sentence1 = \"%-30s %+12f\" % (\"Lay's\", 29)\n",
    "sentence2 = \"%-30s %+12d\" % (\"Coca Cola\", 19)\n",
    "sentence3 = \"%-30s %+12f\" % (\"Super Size Icecream Bucket\", -499)\n",
    "print(sentence1)\n",
    "print(sentence2)\n",
    "print(sentence3)"
   ]
  },
  {
   "cell_type": "code",
   "execution_count": 22,
   "metadata": {},
   "outputs": [
    {
     "name": "stdout",
     "output_type": "stream",
     "text": [
      "Lay's                          +29.000000  \n",
      "Coca Cola                      +19         \n",
      "Super Size Icecream Bucket     -499.000000 \n"
     ]
    }
   ],
   "source": [
    "# แสดงเครื่องหมายของจำนวน พร้อมกับจัดชิดซ้าย ใช้ -+\n",
    "sentence1 = \"%-30s %-+12f\" % (\"Lay's\", 29)\n",
    "sentence2 = \"%-30s %-+12d\" % (\"Coca Cola\", 19)\n",
    "sentence3 = \"%-30s %-+12f\" % (\"Super Size Icecream Bucket\", -499)\n",
    "print(sentence1)\n",
    "print(sentence2)\n",
    "print(sentence3)"
   ]
  },
  {
   "cell_type": "markdown",
   "metadata": {},
   "source": [
    "> Flag `0` ใช้เติม 0 นำหน้าจำนวนให้เต็มความกว้าง"
   ]
  },
  {
   "cell_type": "code",
   "execution_count": 25,
   "metadata": {},
   "outputs": [
    {
     "name": "stdout",
     "output_type": "stream",
     "text": [
      "                         Lay's 00029.000000\n",
      "                     Coca Cola 000000000019\n",
      "    Super Size Icecream Bucket -0499.000000\n"
     ]
    }
   ],
   "source": [
    "sentence1 = \"%30s %012f\" % (\"Lay's\", 29)\n",
    "sentence2 = \"%30s %012d\" % (\"Coca Cola\", 19)\n",
    "sentence3 = \"%30s %012f\" % (\"Super Size Icecream Bucket\", -499)\n",
    "print(sentence1)\n",
    "print(sentence2)\n",
    "print(sentence3)"
   ]
  },
  {
   "cell_type": "markdown",
   "metadata": {},
   "source": [
    "### ใช้ `.` ใน format `%f` เพื่อกำหนดจำนวนเลขหลังจุดทศนิยม ###"
   ]
  },
  {
   "cell_type": "code",
   "execution_count": 28,
   "metadata": {},
   "outputs": [
    {
     "name": "stdout",
     "output_type": "stream",
     "text": [
      "                         Lay's        29.00\n",
      "                     Coca Cola       19.000\n",
      "    Super Size Icecream Bucket    -499.0000\n"
     ]
    }
   ],
   "source": [
    "sentence1 = \"%30s %12.2f\" % (\"Lay's\", 29)\n",
    "sentence2 = \"%30s %12.3f\" % (\"Coca Cola\", 19)\n",
    "sentence3 = \"%30s %12.4f\" % (\"Super Size Icecream Bucket\", -499)\n",
    "print(sentence1)\n",
    "print(sentence2)\n",
    "print(sentence3)"
   ]
  }
 ],
 "metadata": {
  "kernelspec": {
   "display_name": "Python 3",
   "language": "python",
   "name": "python3"
  },
  "language_info": {
   "codemirror_mode": {
    "name": "ipython",
    "version": 3
   },
   "file_extension": ".py",
   "mimetype": "text/x-python",
   "name": "python",
   "nbconvert_exporter": "python",
   "pygments_lexer": "ipython3",
   "version": "3.7.6"
  }
 },
 "nbformat": 4,
 "nbformat_minor": 2
}
