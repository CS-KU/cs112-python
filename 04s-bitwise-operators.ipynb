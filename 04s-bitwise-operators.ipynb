{
 "cells": [
  {
   "cell_type": "markdown",
   "metadata": {},
   "source": [
    "# Bitwise Operators\n",
    "\n",
    "|Operator|ความหมาย|ตัวอย่าง|ผลลัพธ์ (Decimal : Binary)|\n",
    "|:-----:|------|-------|:---------:|\n",
    "|&|Bitwise AND|30 & 49|16 : `00010000`|\n",
    "|&#124;|Bitwise OR|30 &#124; 49|63 : `00111111`|\n",
    "|^|Bitwise XOR|30 ^ 49|47 : `00101111`|\n",
    "|~|Bitwise One's complement|~30 |-31 : `-0011111` = `1100001` |\n",
    "|<<|Bitwise Left Shift|30 << 2|120 : `01111000`|\n",
    "|>>|Bitwise Right Shift|30 >> 2|7 : `00000111`|"
   ]
  },
  {
   "cell_type": "code",
   "execution_count": 1,
   "metadata": {},
   "outputs": [
    {
     "name": "stdout",
     "output_type": "stream",
     "text": [
      " 30 (= 00011110)\n",
      " 49 (= 00110001)\n"
     ]
    }
   ],
   "source": [
    "a = 30\n",
    "b = 49\n",
    "print(\"%3d (= %s)\" % (a, '{0:08b}'.format(a)))\n",
    "print(\"%3d (= %s)\" % (b, '{0:08b}'.format(b)))"
   ]
  },
  {
   "cell_type": "markdown",
   "metadata": {},
   "source": [
    "## Bitwise AND ##\n",
    "\n",
    "> `1 & 1 == 1`\n",
    ">\n",
    "> `1 & 0 == 0`\n",
    ">\n",
    "> `0 & 1 == 0`\n",
    ">\n",
    "> `0 & 0 == 0`"
   ]
  },
  {
   "cell_type": "code",
   "execution_count": 6,
   "metadata": {},
   "outputs": [
    {
     "name": "stdout",
     "output_type": "stream",
     "text": [
      "             30 (= 00011110)\n",
      "             49 (= 00110001) &\n",
      " 30 &  49 =  16 (= 00010000)\n"
     ]
    }
   ],
   "source": [
    "a = 30\n",
    "b = 49\n",
    "c = a & b\n",
    "print(\"%15d (= %s)\" % (a, '{0:08b}'.format(a)))\n",
    "print(\"%15d (= %s) &\" % (b, '{0:08b}'.format(b)))\n",
    "print(\"%3d & %3d = %3d (= %s)\" % (a, b, c, '{0:08b}'.format(c)))"
   ]
  },
  {
   "cell_type": "markdown",
   "metadata": {},
   "source": [
    "## Bitwise OR ##\n",
    "\n",
    "> `1 | 1 == 1`\n",
    ">\n",
    "> `1 | 0 == 1`\n",
    ">\n",
    "> `0 | 1 == 1`\n",
    ">\n",
    "> `0 | 0 == 0`"
   ]
  },
  {
   "cell_type": "code",
   "execution_count": 7,
   "metadata": {},
   "outputs": [
    {
     "name": "stdout",
     "output_type": "stream",
     "text": [
      "             30 (= 00011110)\n",
      "             49 (= 00110001) |\n",
      " 30 |  49 =  63 (= 00111111)\n"
     ]
    }
   ],
   "source": [
    "a = 30\n",
    "b = 49\n",
    "c = a | b\n",
    "print(\"%15d (= %s)\" % (a, '{0:08b}'.format(a)))\n",
    "print(\"%15d (= %s) |\" % (b, '{0:08b}'.format(b)))\n",
    "print(\"%3d | %3d = %3d (= %s)\" % (a, b, c, '{0:08b}'.format(c)))"
   ]
  },
  {
   "cell_type": "markdown",
   "metadata": {},
   "source": [
    "## Bitwise XOR ##\n",
    "\n",
    "> `1 ^ 1 == 0`\n",
    ">\n",
    "> `1 ^ 0 == 1`\n",
    ">\n",
    "> `0 ^ 1 == 1`\n",
    ">\n",
    "> `0 ^ 0 == 0`"
   ]
  },
  {
   "cell_type": "code",
   "execution_count": 8,
   "metadata": {},
   "outputs": [
    {
     "name": "stdout",
     "output_type": "stream",
     "text": [
      "             30 (= 00011110)\n",
      "             49 (= 00110001) ^\n",
      " 30 ^  49 =  47 (= 00101111)\n"
     ]
    }
   ],
   "source": [
    "a = 30\n",
    "b = 49\n",
    "c = a ^ b\n",
    "print(\"%15d (= %s)\" % (a, '{0:08b}'.format(a)))\n",
    "print(\"%15d (= %s) ^\" % (b, '{0:08b}'.format(b)))\n",
    "print(\"%3d ^ %3d = %3d (= %s)\" % (a, b, c, '{0:08b}'.format(c)))"
   ]
  },
  {
   "cell_type": "markdown",
   "metadata": {},
   "source": [
    "## Bitwise One's Complement ##\n"
   ]
  },
  {
   "cell_type": "code",
   "execution_count": 14,
   "metadata": {
    "scrolled": true
   },
   "outputs": [
    {
     "name": "stdout",
     "output_type": "stream",
     "text": [
      "~30 = -31 (= -0011111)\n",
      "~49 = -50 (= -0110010)\n"
     ]
    }
   ],
   "source": [
    "a = 30\n",
    "c = ~a\n",
    "print(\"~%d = %3d (= %s)\" % (a, c, '{0:08b}'.format(c)))\n",
    "b = 49\n",
    "c = ~b\n",
    "print(\"~%d = %3d (= %s)\" % (b, c, '{0:08b}'.format(c)))"
   ]
  },
  {
   "cell_type": "markdown",
   "metadata": {},
   "source": [
    "## Bitwise Left SHIFT ##\n"
   ]
  },
  {
   "cell_type": "code",
   "execution_count": null,
   "metadata": {},
   "outputs": [],
   "source": [
    "a = 30\n",
    "print(\"%d << 1 = %3d (= %s)\" % (a, a << 1, '{0:016b}'.format(a << 1)))\n",
    "print(\"%d << 2 = %3d (= %s)\" % (a, a << 2, '{0:016b}'.format(a << 2)))\n",
    "print(\"%d << 3 = %3d (= %s)\" % (a, a << 3, '{0:016b}'.format(a << 3)))\n",
    "print(\"%d << 4 = %3d (= %s)\" % (a, a << 4, '{0:016b}'.format(a << 4)))\n",
    "print(\"%d << 5 = %3d (= %s)\" % (a, a << 5, '{0:016b}'.format(a << 5)))"
   ]
  },
  {
   "cell_type": "markdown",
   "metadata": {},
   "source": [
    "## Bitwise Right SHIFT ##\n"
   ]
  },
  {
   "cell_type": "code",
   "execution_count": null,
   "metadata": {},
   "outputs": [],
   "source": [
    "a = 30\n",
    "print(\"%d >> 1 = %3d (= %s)\" % (a, a >> 1, '{0:016b}'.format(a >> 1)))\n",
    "print(\"%d >> 2 = %3d (= %s)\" % (a, a >> 2, '{0:016b}'.format(a >> 2)))\n",
    "print(\"%d >> 3 = %3d (= %s)\" % (a, a >> 3, '{0:016b}'.format(a >> 3)))\n",
    "print(\"%d >> 4 = %3d (= %s)\" % (a, a >> 4, '{0:016b}'.format(a >> 4)))\n",
    "print(\"%d >> 5 = %3d (= %s)\" % (a, a >> 5, '{0:016b}'.format(a >> 5)))"
   ]
  },
  {
   "cell_type": "markdown",
   "metadata": {},
   "source": [
    "ในสงครามครั้งหนึ่ง นักวิทยาการคอมพิวเตอร์คนหนึ่ง ถูกจับเป็นเชลยอยู่ในประเทศหนึ่ง เขาต้องการส่งข้อความไปให้เพื่อนคนหนึ่งเพื่อขอความช่วยเหลือ เขาจึงคิดวิธีแปลงข้อความเป็นตัวเลขส่งไปให้เพื่อนผ่านพิราบสื่อสาร\n",
    "\n",
    "วิธีการเข้ารหัสของเขา คือ เปลี่ยนตัวอักษรของข้อความแต่ละตัว เป็น ascii code จากนั้นเปลี่ยนเป็นเลขฐานสอง 8 bit เมื่อนำทุกตัวอักษรในคำนั้นมาต่อกัน จะได้จำนวนเต็มฐานสิบมาจำนวนหนึ่ง เช่น\n",
    "\n",
    "|**ข้อความ**|F|i|n|e|\n",
    "|-----|:-----:|:-----:|:-----:|:-----:|\n",
    "|**ascii code**|70|105|110|101|\n",
    "|**เลขฐานสอง 8 bit**|01000110|01101001|01101110|01100101| = `1181314661` ในฐานสิบ|\n",
    "\n",
    "เขียนโปรแกรมเพื่อรับรหัสลับซึ่งเป็นจำนวนเต็มที่เข้ารหัสด้วยวิธีข้างต้น แล้วถอดรหัสเป็นข้อความ \n",
    "\n",
    "ฟังก์ชัน ord(character) จะคืนค่า ascii code ของ character เช่น ord('a') คืนค่า 97<br>\n",
    "ฟังก์ชัน chr(code) จะคืนค่า ตัวอักษร ของ (ascii) code เช่น chr(97) คืนค่า 'a' <br>"
   ]
  },
  {
   "cell_type": "code",
   "execution_count": null,
   "metadata": {},
   "outputs": [],
   "source": [
    "secret = int(input(\"Enter secret code: \"))\n",
    "word = \"\"\n",
    "while True:\n",
    "    char = secret & 255\n",
    "    if char == 0:\n",
    "        break\n",
    "    word = chr(char) + word\n",
    "    secret = secret >> 8\n",
    "print(\"word: %s\" % word)"
   ]
  },
  {
   "cell_type": "markdown",
   "metadata": {},
   "source": [
    "### (Your Turn)\n",
    "เขียนโปรแกรมเพื่อรับตัวอักษรของข้อความทีละตัว จนกว่าผู้ใช้จะใส่ -1 <br>\n",
    "จากนั้นเข้ารหัสเป็นตัวเลขตามวิธีข้างต้น\n",
    "\n",
    "**ตัวอย่าง**\n",
    "> Enter char: S <br>\n",
    "Enter char: i <br>\n",
    "Enter char: n <br>\n",
    "Enter char: g <br>\n",
    "Enter char: u <br>\n",
    "Enter char: l <br>\n",
    "Enter char: a <br>\n",
    "Enter char: r <br>\n",
    "Enter char: -1 <br>\n",
    "secret for word \"Singular\" : 6010456568333361522"
   ]
  },
  {
   "cell_type": "code",
   "execution_count": null,
   "metadata": {},
   "outputs": [],
   "source": [
    "# Your code here\n",
    "\n",
    "\n",
    "\n",
    "\n",
    "\n"
   ]
  }
 ],
 "metadata": {
  "kernelspec": {
   "display_name": "Python 3.6",
   "language": "python",
   "name": "python36"
  },
  "language_info": {
   "codemirror_mode": {
    "name": "ipython",
    "version": 3
   },
   "file_extension": ".py",
   "mimetype": "text/x-python",
   "name": "python",
   "nbconvert_exporter": "python",
   "pygments_lexer": "ipython3",
   "version": "3.6.0"
  }
 },
 "nbformat": 4,
 "nbformat_minor": 1
}
