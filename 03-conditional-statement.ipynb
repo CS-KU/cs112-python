{
 "cells": [
  {
   "cell_type": "markdown",
   "metadata": {},
   "source": [
    "# Boolean Data Type #\n",
    "\n",
    "Boolean คือ ข้อมูลที่แสดงถึงการตัดสินใจแบบตรรกะ มีเพียง 2 ค่า คือ `False` และ `True`<br>\n",
    "โดยค่า `False` มีลำดับก่อน คือลำดับที่ 0 <br>\n",
    "และค่า `True` มีลำดับหลัง คือลำดับที่ 1 \n",
    "\n",
    "เมื่อนำไปคำนวณกับจำนวน ค่า `False` จะถูกประมวลผลเป็น `0` และ ค่า `True` จะถูกประมวลผลเป็น 1\n",
    "\n",
    "ในภาษา Python นั้น ค่า `False` และ `True` เป็น Case Sensitive (จะใช้ `false`, `TRUE` หรือ `FaLsE` ไม่ได้)"
   ]
  },
  {
   "cell_type": "code",
   "execution_count": null,
   "metadata": {},
   "outputs": [],
   "source": [
    "python_is_easy = True\n",
    "print( python_is_easy )\n",
    "print( type(python_is_easy) )\n",
    "print( python_is_easy + 2 )\n",
    "print( int(True) )\n",
    "print( float(False) )"
   ]
  },
  {
   "cell_type": "markdown",
   "metadata": {},
   "source": [
    "## คำสั่งแปลงเป็น Boolean ##\n",
    "\n",
    "คำสั่ง `bool(x)` ใช้แปลงค่า `x` เป็น Boolean\n",
    "\n",
    "| ค่าที่เป็น `False` | ค่าที่เป็น `True` |\n",
    "| ---- | ---- |\n",
    "| `False` | `True` |\n",
    "| `0` | จำนวนเต็มที่ไม่ใช่ศูนย์ |\n",
    "| `0.0` | จำนวนใด ๆ ที่ไม่ใช่ศูนย์ |\n",
    "| Empty String (`''`) | Non Empty String |"
   ]
  },
  {
   "cell_type": "code",
   "execution_count": null,
   "metadata": {},
   "outputs": [],
   "source": [
    "print( bool(-1) )\n",
    "# ลอง bool() ของค่าแบบอื่น\n",
    "\n",
    "\n",
    "\n"
   ]
  },
  {
   "cell_type": "markdown",
   "metadata": {},
   "source": [
    "-------\n",
    "\n",
    "-------"
   ]
  },
  {
   "cell_type": "markdown",
   "metadata": {},
   "source": [
    "## 🔬 ห้องทดลอง ##\n",
    "\n",
    "ลองใช้งาน operators ทางคณิตศาสตร์กับข้อมูลประเภท boolean ร่วมกับข้อมูลประเภทอื่น สังเกตผลลัพธ์ และชนิดของผลลัพธ์"
   ]
  },
  {
   "cell_type": "markdown",
   "metadata": {},
   "source": [
    "-------\n",
    "\n",
    "-------"
   ]
  },
  {
   "cell_type": "markdown",
   "metadata": {},
   "source": [
    "# Boolean Expression (นิพจน์ตรรกศาสตร์) #\n",
    "\n",
    "> นิพจน์หรือเงื่อนไขที่ให้ผลลัพธ์เป็นจริง (`True`) หรือเท็จ (`False`) เท่านั้น\n",
    "\n",
    "วิธีสร้าง Boolean Expression ใช้ตัวดำเนินการ 2 แบบ คือ\n",
    "\n",
    "1. Relational Operators (ตัวดำเนินการเปรียบเทียบ)\n",
    "2. Boolean Operators (Logical Operators - ตัวดำเนินการแบบตรรกะ)"
   ]
  },
  {
   "cell_type": "markdown",
   "metadata": {},
   "source": [
    "## 1. ตัวดำเนินการเปรียบเทียบ (Relational Operators) ##\n",
    "\n",
    "> ใช้เปรียบเทียบระหว่างค่าชนิดใดก็ได้ที่สามารถเปรียบเทียบกันได้\n",
    "\n",
    "| Operator | \tความหมาย |\tตัวอย่าง | |\n",
    "| ---- | ---- | ---- | ---- |\n",
    "| `==` |\tเปรียบเทียบเท่ากับ |\t`a == b` | `a` เท่ากับ `b` จริงหรือเท็จ |\n",
    "| `!=` |\tเปรียบเทียบไม่เท่ากับ |\t`a != b` | `a` ไม่เท่ากับ `b` จริงหรือเท็จ |\n",
    "| `>` |\tเปรียบเทียบมากกว่า | \t`(a / 2) > 2` | `(a / 2)` มากกว่า `2` จริงหรือเท็จ |\n",
    "| `<` |\tเปรียบเทียบน้อยกว่า |\t`2 < 3` | `2` น้อยกว่า `3` จริง |\n",
    "| `>=` |\tเปรียบเทียบมากกว่าหรือเท่ากับ | `5 >= 10` | `5` มากกว่าหรือเท่ากับ `10` เท็จ |\n",
    "| `<=` |\tเปรียบเทียบน้อยกว่าหรือเท่ากับ | `a <= 3` | `a` น้อยกว่าหรือเท่ากับ `3` จริงหรือเท็จ |"
   ]
  },
  {
   "cell_type": "code",
   "execution_count": null,
   "metadata": {},
   "outputs": [],
   "source": [
    "import math\n",
    "print( \"(math.pi == 3.14) is\", math.pi == 3.14 )\n",
    "print( \"(math.pi != 3.14) is\", math.pi != 3.14 )"
   ]
  },
  {
   "cell_type": "code",
   "execution_count": null,
   "metadata": {},
   "outputs": [],
   "source": [
    "a = 90\n",
    "b = 90.0\n",
    "print( \"(a == b) is\", a == b )\n",
    "print( \"(a > b) is\", a > b )\n",
    "print( \"(a <= b) is\", a <= b )"
   ]
  },
  {
   "cell_type": "code",
   "execution_count": null,
   "metadata": {},
   "outputs": [],
   "source": [
    "a = \"A\"\n",
    "print( a > \"A\" )\n",
    "print( a < \"B\" )\n",
    "print( a == \"A\" )\n",
    "print( a >= \"A\" )\n",
    "print( a != \"a\" )"
   ]
  },
  {
   "cell_type": "code",
   "execution_count": null,
   "metadata": {},
   "outputs": [],
   "source": [
    "# ตรวจสอบว่า a หารด้วย 4 ลงตัวหรือไม่\n",
    "a = 20\n",
    "print(a % 4 == 0)"
   ]
  },
  {
   "cell_type": "code",
   "execution_count": null,
   "metadata": {},
   "outputs": [],
   "source": [
    "# ตรวจสอบว่า เศษจากการหาร a ด้วย 3 เท่ากับ เศษจากการหาร a ด้วย 5 หรือไม่\n",
    "a = 20\n",
    "print(a % 3 == a % 5)"
   ]
  },
  {
   "cell_type": "markdown",
   "metadata": {},
   "source": [
    "## _(Your Turn)_ 🌱 ##\n",
    "\n",
    "📃 ตรวจสอบว่า x เป็นคำตอบของสมการ $ 2x^2 + x = 0 $ หรือไม่"
   ]
  },
  {
   "cell_type": "code",
   "execution_count": null,
   "metadata": {},
   "outputs": [],
   "source": [
    "x = -1/2\n",
    "# Your Code Here\n",
    "\n",
    "\n"
   ]
  },
  {
   "cell_type": "markdown",
   "metadata": {},
   "source": [
    "## 2. ตัวดำเนินการแบบตรรกะ (Boolean Operators, Logical Operators) ##\n",
    "\n",
    "> จะเชื่อมระหว่าง Boolean เท่านั้น Data Type อื่น จะถูกแปลงเป็น Boolean ก่อน\n",
    "\n",
    "| Operator | ความหมาย |\tตัวอย่าง |\n",
    "| ---- | ---- | ---- |\n",
    "| `and` | และ | `True and True` <br> `math.pi == 3.14 and r > 0` |\n",
    "| `or` | หรือ |\t`False or False` <br> `a % 4 == 0 or a % 3 == a % 5` |\n",
    "| `not` | นิเสธ | `not True` <br> `not abs(y2 - y1) > 0` |"
   ]
  },
  {
   "cell_type": "code",
   "execution_count": null,
   "metadata": {},
   "outputs": [],
   "source": [
    "print( True and True )\n",
    "print( False or False )\n",
    "print( not True )"
   ]
  },
  {
   "cell_type": "code",
   "execution_count": null,
   "metadata": {},
   "outputs": [],
   "source": [
    "import math\n",
    "r = 3\n",
    "print( math.pi == 3.14 and r > 0 and r < 5)"
   ]
  },
  {
   "cell_type": "code",
   "execution_count": null,
   "metadata": {},
   "outputs": [],
   "source": [
    "a = 150\n",
    "print( a % 4 == 0 or a % 3 == a % 5 )"
   ]
  },
  {
   "cell_type": "code",
   "execution_count": null,
   "metadata": {},
   "outputs": [],
   "source": [
    "y1 = -403\n",
    "y2 = -522\n",
    "print( not abs(y2 - y1) > 0 )"
   ]
  },
  {
   "cell_type": "code",
   "execution_count": null,
   "metadata": {},
   "outputs": [],
   "source": [
    "# input ที่รับเข้ามา เป็น A หรือ a หรือไม่\n",
    "choice = input(\"Select menu (A, B): \")\n",
    "print( choice == 'A' or 'a' )\n",
    "print( choice == 'A' or choice == 'a' )"
   ]
  },
  {
   "cell_type": "markdown",
   "metadata": {},
   "source": [
    "## _(Your Turn)_ 🌱 ##\n",
    "\n",
    "📃 เขียนโปรแกรมรับจำนวนเต็มมาจำนวนหนึ่ง จากนั้นตรวจสอบจำนวนที่รับเข้ามา เป็นคำตอบของสมการ $ x^2 - 6x + 9 = 0 $ หรือไม่"
   ]
  },
  {
   "cell_type": "code",
   "execution_count": null,
   "metadata": {},
   "outputs": [],
   "source": [
    "# Your Code Here\n",
    "\n",
    "\n"
   ]
  },
  {
   "cell_type": "markdown",
   "metadata": {},
   "source": [
    "## _(Your Turn)_ 🌱 ##\n",
    "\n",
    "📃 เขียนโปรแกรมรับจำนวนเต็มมาจำนวนหนึ่ง จากนั้นตรวจสอบจำนวนที่รับเข้ามา เป็นจำนวนคู่ที่หารด้วย 3 ลงตัว หรือไม่"
   ]
  },
  {
   "cell_type": "code",
   "execution_count": null,
   "metadata": {},
   "outputs": [],
   "source": [
    "# Your Code Here\n",
    "\n",
    "\n"
   ]
  },
  {
   "cell_type": "markdown",
   "metadata": {},
   "source": [
    "------\n",
    " \n",
    "------"
   ]
  },
  {
   "cell_type": "markdown",
   "metadata": {},
   "source": [
    "# Conditional Statement (คำสั่งเงื่อนไข) #\n",
    "\n",
    "> python ใช้ indent ในการจัด block ของ code <br>\n",
    "> code ที่มี indent เท่ากัน จะทำต่อเนื่องกัน"
   ]
  },
  {
   "cell_type": "markdown",
   "metadata": {},
   "source": [
    "## `if` statement ##\n",
    "\n",
    "```python\n",
    "if (Boolean_Expression):\n",
    "    #do something if True\n",
    "    #do another\n",
    "#do whenever true or false\n",
    "```"
   ]
  },
  {
   "cell_type": "markdown",
   "metadata": {},
   "source": [
    "#### ตัวอย่าง ####\n",
    "\n",
    "📃 สวนสัตว์แห่งหนึ่ง จำหน่ายตั๋วให้ผู้เข้าชมราคา 40 บาท<br>\n",
    "ยกเว้นผู้ที่มีส่วนสูงไม่เกิน 140 เซนติเมตร ไม่ต้องเสียค่าเข้าชม<br>\n",
    "เขียนโปรแกรมคำนวณค่าเข้าชม\n"
   ]
  },
  {
   "cell_type": "code",
   "execution_count": 2,
   "metadata": {},
   "outputs": [
    {
     "name": "stdout",
     "output_type": "stream",
     "text": [
      "Enter number: 31\n",
      "You enter number 31\n",
      "Good bye.\n"
     ]
    }
   ],
   "source": [
    "# Input\n",
    "price = 40 # Declaration (First assignment)\n",
    "height = int(input(\"Enter height (cm): \"))\n",
    "\n",
    "# Process\n",
    "if (height <= 140):\n",
    "    price = 0\n",
    "    print(\"Hello, kid!\")\n",
    "    \n",
    "# Output\n",
    "print(\"Your Ticket price is %d Baht.\" % price)"
   ]
  },
  {
   "cell_type": "markdown",
   "metadata": {},
   "source": [
    "## `if`-`else` statement ##\n",
    "\n",
    "```python\n",
    "\n",
    "if (Boolean_Expression):\n",
    "    #do if True\n",
    "    #do another1\n",
    "else:\n",
    "    #do if False\n",
    "    #do another2\n",
    "#do after if-else\n",
    "```"
   ]
  },
  {
   "cell_type": "code",
   "execution_count": null,
   "metadata": {},
   "outputs": [],
   "source": [
    "# ใน Python ไม่สามารถมี Block ว่างได้\n",
    "# ให้ใช้ pass กรณีที่ Block นั้น ไม่มีคำสั่งให้ประมวลผล\n",
    "\n",
    "# Input\n",
    "price = 40\n",
    "height = int(input(\"Enter height (cm): \"))\n",
    "\n",
    "# Process\n",
    "if (height > 140):\n",
    "    pass\n",
    "else:\n",
    "    print(\"Hello, kid!\")\n",
    "    price = 0\n",
    "\n",
    "# Output\n",
    "print(\"Your Ticket price is %d Baht.\" % price)"
   ]
  },
  {
   "cell_type": "markdown",
   "metadata": {},
   "source": [
    "## `if`-`elif`-`else` statement ##\n",
    "\n",
    "```python\n",
    "if (BooleanExp1):\n",
    "    # do if Exp1 is True\n",
    "elif (BooleanExp2):\n",
    "    # do if Exp1 is False but Exp2 is True\n",
    "elif (... BooleanExpN) :\n",
    "    # do if Exp1 and Exp2 and ... are False but ExpN is True\n",
    "else:\n",
    "    # do if Exp1...N are False\n",
    "# do after if-elif-else\n",
    "```"
   ]
  },
  {
   "cell_type": "markdown",
   "metadata": {},
   "source": [
    "📃 สวนสัตว์แห่งเดิม เปลี่ยนเงื่อนไขในการจำหน่ายตั๋วใหม่ดังนี้\n",
    "\n",
    "* ผู้เข้าชมทั่วไป เสียค่าเข้าชม 40 บาท\n",
    "* ผู้เข้าชมที่มีอายุไม่เกิน 15 ปี เสียค่าเข้าชม 20 บาท\n",
    "* ผู้เข้าชมที่มีอายุไม่เกิน 15 ปี และมีความสูงไม่เกิน 140 เซนติเมตร ไม่ต้องเสียค่าเข้าชม"
   ]
  },
  {
   "cell_type": "code",
   "execution_count": null,
   "metadata": {},
   "outputs": [],
   "source": [
    "# Input\n",
    "price = 40\n",
    "age = int(input(\"Enter age: \"))\n",
    "height = int(input(\"Enter height (cm): \"))\n",
    "\n",
    "# Process\n",
    "if (age > 15):\n",
    "    pass\n",
    "elif (height <= 140):\n",
    "    print(\"Hello, kid!\")\n",
    "    price = 0\n",
    "else:\n",
    "    print(\"Hello, kid!\")\n",
    "    price = 20\n",
    "\n",
    "# Output\n",
    "print(\"Your Ticket price is %d Baht.\" % price)"
   ]
  },
  {
   "cell_type": "markdown",
   "metadata": {},
   "source": [
    "-----\n",
    "\n",
    "-----"
   ]
  },
  {
   "cell_type": "markdown",
   "metadata": {},
   "source": [
    "# Data Cleansing (การแยกขยะ) #\n",
    "\n",
    "โปรแกรมที่เขียนขึ้น อาจจะประมวลผลกับข้อมูลที่มาจากไฟล์ หรือแหล่งข้อมูลอื่น ที่อาจมีข้อมูลที่ผิดพลาดได้ (เช่น อายุไม่ควรติดลบ) <br>\n",
    "จึงควรแยกข้อมูลที่ไม่ถูกต้อง (ขยะ) ออกไปก่อนการประมวลผลของโปรแกรม\n"
   ]
  },
  {
   "cell_type": "code",
   "execution_count": null,
   "metadata": {},
   "outputs": [],
   "source": [
    "# Input\n",
    "price = 40\n",
    "age = int(input(\"Enter age: \"))\n",
    "height = int(input(\"Enter height (cm): \"))\n",
    "\n",
    "# Process\n",
    "if age < 0 or height <= 0:\n",
    "    print(\"Invalid age or height.\")\n",
    "else:\n",
    "    if (age > 15):\n",
    "        pass\n",
    "    elif (height <= 140):\n",
    "        print(\"Hello, kid!\")\n",
    "        price = 0\n",
    "    else:\n",
    "        print(\"Hello, kid!\")\n",
    "        price = 20\n",
    "\n",
    "    # Output\n",
    "    print(\"Your Ticket price is %d Baht.\" % price)"
   ]
  },
  {
   "cell_type": "markdown",
   "metadata": {},
   "source": [
    "## _(Your Turn)_ 🌱 ##\n",
    "\n",
    "📃 จงเขียนโปรแกรมเพื่อรับจำนวนจริง x จากนั้นหาค่า f(x) \n",
    "\n",
    "กำหนดให้ $ f(x) =\\begin{cases} 100 - x^2 & ; x < 0 \\\\ x^2 + \\sqrt{x} + 1 & ; 0 <= x < 100 \\\\ \\frac{100}{\\sqrt{x + 1}} & ; x > 100 \\end{cases} $"
   ]
  },
  {
   "cell_type": "code",
   "execution_count": null,
   "metadata": {},
   "outputs": [],
   "source": [
    "# Your Code Here\n",
    "\n",
    "\n",
    "\n",
    "\n",
    "\n",
    "\n"
   ]
  },
  {
   "cell_type": "markdown",
   "metadata": {},
   "source": [
    "-----\n",
    "\n",
    "-----"
   ]
  },
  {
   "cell_type": "markdown",
   "metadata": {},
   "source": [
    "## คำถามชวนคิด 🤔 ##"
   ]
  },
  {
   "cell_type": "markdown",
   "metadata": {},
   "source": [
    "💭 ถ้านำตัวเลขมาใช้กับตัวดำเนินการแบบตรรกะ เช่น `1.5 and 4` จะมีผลอย่างไร เหตุใดจึงเป็นเช่นนั้น ถ้านำไปใช้เป็นเงื่อนไขใน `if` จะเป็นอย่างไร"
   ]
  },
  {
   "cell_type": "markdown",
   "metadata": {},
   "source": [
    "💭 กำหนดให้ x = 10 ผลลัพธ์ของ `x < 4 or 6` คืออะไร ทำไมจึงเป็นเช่นนั้น ถ้านำไปใช้เป็นเงื่อนไขใน `if` จะเป็นอย่างไร"
   ]
  },
  {
   "cell_type": "markdown",
   "metadata": {},
   "source": [
    "💭 ทำอย่างไรจึงจะไม่ให้เกิดข้อผิดพลาดใน 2 ข้อข้างต้นอีก ในการเขียนโปรแกรม"
   ]
  }
 ],
 "metadata": {
  "kernelspec": {
   "display_name": "Python 3",
   "language": "python",
   "name": "python3"
  },
  "language_info": {
   "codemirror_mode": {
    "name": "ipython",
    "version": 3
   },
   "file_extension": ".py",
   "mimetype": "text/x-python",
   "name": "python",
   "nbconvert_exporter": "python",
   "pygments_lexer": "ipython3",
   "version": "3.7.6"
  }
 },
 "nbformat": 4,
 "nbformat_minor": 4
}
