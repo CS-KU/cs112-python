{
 "cells": [
  {
   "cell_type": "markdown",
   "metadata": {},
   "source": [
    "# String Methods 2 #"
   ]
  },
  {
   "cell_type": "markdown",
   "metadata": {},
   "source": [
    "## 1. ค้นหาใน String ##"
   ]
  },
  {
   "cell_type": "markdown",
   "metadata": {},
   "source": [
    "### 1.1 `string.count(sub, start, end)` ###\n",
    "* นับจำนวนครั้งที่ `sub` String ปรากฏใน `string` ช่วง `start` ถึงก่อน `end`\n",
    "* default `start` คือ 0\n",
    "* default `end` คือ `len(string)`\n",
    "* ผลลัพธ์เป็นจำนวนเต็มบวก หรือ 0"
   ]
  },
  {
   "cell_type": "code",
   "execution_count": null,
   "metadata": {},
   "outputs": [],
   "source": [
    "s = \"CS is Computer Science\"\n",
    "print( s.count('s') )"
   ]
  },
  {
   "cell_type": "code",
   "execution_count": null,
   "metadata": {},
   "outputs": [],
   "source": [
    "s = \"CS is Computer Science\"\n",
    "print( s.count('S') )"
   ]
  },
  {
   "cell_type": "code",
   "execution_count": null,
   "metadata": {},
   "outputs": [],
   "source": [
    "s = \"CS is Computer Science\"\n",
    "print( s.count('CS') )"
   ]
  },
  {
   "cell_type": "code",
   "execution_count": null,
   "metadata": {},
   "outputs": [],
   "source": [
    "s = \"CS is Computer Science\"\n",
    "print( s.count('SC') )"
   ]
  },
  {
   "cell_type": "code",
   "execution_count": null,
   "metadata": {},
   "outputs": [],
   "source": [
    "s = \"cs is computer science\"\n",
    "print(1, s[6:14] )\n",
    "print(2, s.count('c', 6, 14) )\n",
    "print(3, s[6:14].count('c') )"
   ]
  },
  {
   "cell_type": "code",
   "execution_count": null,
   "metadata": {},
   "outputs": [],
   "source": [
    "s = \"cs is computer science\"\n",
    "print(1, s[6:] )\n",
    "print(2, s.count('c', 6) )\n",
    "print(3, s[6:].count('c') )"
   ]
  },
  {
   "cell_type": "code",
   "execution_count": null,
   "metadata": {},
   "outputs": [],
   "source": [
    "s = \"cs is computer science\"\n",
    "print(1, s[:14] )\n",
    "print(2, s.count('c', 0, 14) )\n",
    "print(3, s[:14].count('c') )"
   ]
  },
  {
   "cell_type": "markdown",
   "metadata": {},
   "source": [
    "### 1.2 `string.startswith(prefix, start, end)` ###\n",
    "* ตรวจสอบว่า `string` ในช่วง `start` ถึงก่อน `end` นั้น ขึ้นต้นด้วย `prefix` หรือไม่\n",
    "* default `start` คือ 0\n",
    "* default `end` คือ `len(string)`\n",
    "* คำตอบเป็น Boolean"
   ]
  },
  {
   "cell_type": "code",
   "execution_count": null,
   "metadata": {},
   "outputs": [],
   "source": [
    "s = \"cs is computer science\"\n",
    "print(s.startswith('cs'))"
   ]
  },
  {
   "cell_type": "code",
   "execution_count": null,
   "metadata": {},
   "outputs": [],
   "source": [
    "s = \"cs is computer science\"\n",
    "print(1, s.startswith('com', 6, 14))\n",
    "print(2, s[6:14])\n",
    "print(3, s[6:14].startswith('com'))"
   ]
  },
  {
   "cell_type": "code",
   "execution_count": null,
   "metadata": {},
   "outputs": [],
   "source": [
    "s = \"cs is computer science\"\n",
    "print(1, s.startswith('sc', 14))\n",
    "print(2, s[14:])\n",
    "print(3, s[14:].startswith('sc'))"
   ]
  },
  {
   "cell_type": "markdown",
   "metadata": {},
   "source": [
    "### 1.3 `string.endswith(suffix, start, end)` ###\n",
    "* ตรวจสอบว่า `string` ในช่วง `start` ถึงก่อน `end` นั้น ลงท้ายด้วย `suffix` หรือไม่\n",
    "* default `start` คือ 0\n",
    "* default `end` คือ `len(string)`\n",
    "* คำตอบเป็น Boolean"
   ]
  },
  {
   "cell_type": "code",
   "execution_count": null,
   "metadata": {},
   "outputs": [],
   "source": [
    "s = \"cs is computer science\"\n",
    "print(s.endswith('ce'))"
   ]
  },
  {
   "cell_type": "code",
   "execution_count": null,
   "metadata": {},
   "outputs": [],
   "source": [
    "s = \"cs is computer science\"\n",
    "print(1, s.endswith('ter', 6, 14) )\n",
    "print(2, s[6:14] )\n",
    "print(3, s[6:14].endswith('ter') )"
   ]
  },
  {
   "cell_type": "code",
   "execution_count": null,
   "metadata": {},
   "outputs": [],
   "source": [
    "s = \"cs is computer science\"\n",
    "print(1, s.endswith('science', len(s) - 5) )\n",
    "print(2, s[len(s) - 5:] )\n",
    "print(3, s[len(s) - 5:].endswith('science') )"
   ]
  },
  {
   "cell_type": "markdown",
   "metadata": {},
   "source": [
    "### 1.4 `string.find(needle, start, end)` ###\n",
    "* ค้นหาว่า `needle` ปรากฏครั้งแรกใน `string` ช่วง `start` ถึงก่อน `end` ที่ index เท่าไร\n",
    "* default `start` คือ 0\n",
    "* default `end` คือ `len(string)`\n",
    "* คำตอบเป็นจำนวนเต็มบวกหรือ 0 ซึ่งเป็น index แรกที่เจอ ถ้าไม่เจอจะ return `-1`"
   ]
  },
  {
   "cell_type": "code",
   "execution_count": null,
   "metadata": {},
   "outputs": [],
   "source": [
    "s = \"cs is computer science\"\n",
    "print(s.find('computer'))"
   ]
  },
  {
   "cell_type": "code",
   "execution_count": null,
   "metadata": {},
   "outputs": [],
   "source": [
    "s = \"cs is computer science\"\n",
    "print(s.find('hard'))"
   ]
  },
  {
   "cell_type": "code",
   "execution_count": null,
   "metadata": {},
   "outputs": [],
   "source": [
    "s = \"cs is computer science\"\n",
    "print(1, s.find('pu', 6, 14))\n",
    "print(2, s[6:14])\n",
    "print(3, s[6:14].find('pu'))"
   ]
  },
  {
   "cell_type": "code",
   "execution_count": null,
   "metadata": {},
   "outputs": [],
   "source": [
    "s = \"cs is computer science\"\n",
    "print(1, s.find('cs', 9))\n",
    "print(2, s[9:])\n",
    "print(3, s[9:].find('cs'))"
   ]
  },
  {
   "cell_type": "markdown",
   "metadata": {},
   "source": [
    "### 1.5 `string.rfind(needle, start, end)` ###\n",
    "\n",
    "* ค้นหาว่า `needle` ปรากฏครั้งสุดท้ายใน `string` ช่วง `start` ถึงก่อน `end` ที่ index เท่าไร\n",
    "* default `start` คือ 0\n",
    "* default `end` คือ `len(string)`\n",
    "* คำตอบเป็นจำนวนเต็มบวกหรือ 0 ซึ่งเป็น index แรกที่เจอ ถ้าไม่เจอจะ return `-1`"
   ]
  },
  {
   "cell_type": "code",
   "execution_count": null,
   "metadata": {},
   "outputs": [],
   "source": [
    "s = \"cs is computer science and this method is find from the right.\"\n",
    "needle = 'is'\n",
    "print(1, \"There are %d '%s' in String\" % (s.count(needle), needle))\n",
    "print(2, \"The first is at index\", s.find(needle))\n",
    "print(3, s[3:])\n",
    "print(4, \"The last is at index\", s.rfind(needle))\n",
    "print(5, s[39:])"
   ]
  },
  {
   "cell_type": "code",
   "execution_count": null,
   "metadata": {},
   "outputs": [],
   "source": [
    "s = \"cs is computer science and this method is find from the right.\"\n",
    "needle = 'is'\n",
    "print(1, s.rfind(needle, 0, 39))\n",
    "print(2, s[:29])"
   ]
  },
  {
   "cell_type": "markdown",
   "metadata": {},
   "source": [
    "### 1.6 `string.replace(old, new, max)` ###\n",
    "\n",
    "* แทนที่คำ `old` ด้วยคำ `new` ใน `string` จำกัดจำนวนครั้งที่ `max`\n",
    "* default `max` คือ จำนวนทั้งหมดของคำ `old` ใน `string`"
   ]
  },
  {
   "cell_type": "code",
   "execution_count": null,
   "metadata": {},
   "outputs": [],
   "source": [
    "s = \"cs is computer science and this method is replace old with new in string.\"\n",
    "print(s.replace(\"is\", \"//\"))"
   ]
  },
  {
   "cell_type": "code",
   "execution_count": null,
   "metadata": {},
   "outputs": [],
   "source": [
    "s = \"cs is computer science and this method is replace old with new in string.\"\n",
    "print(s.replace(\"is\", \"//\", 2))"
   ]
  },
  {
   "cell_type": "markdown",
   "metadata": {},
   "source": [
    "-----------\n",
    "\n",
    "-----------"
   ]
  },
  {
   "cell_type": "markdown",
   "metadata": {},
   "source": [
    "## 2. ตกแต่ง String ##"
   ]
  },
  {
   "cell_type": "markdown",
   "metadata": {},
   "source": [
    "### 2.1 `string.strip(char)` ###\n",
    "ลบทุก `char` ที่อยู่ส่วนต้นและส่วนท้ายของ `string`\n",
    "\n",
    "default `char` คือ space (`' '`)"
   ]
  },
  {
   "cell_type": "code",
   "execution_count": null,
   "metadata": {},
   "outputs": [],
   "source": [
    "s = \"            cs is computer science          \"\n",
    "print(\"'%s'\" % s)\n",
    "print(\"'%s'\" % s.strip())"
   ]
  },
  {
   "cell_type": "code",
   "execution_count": null,
   "metadata": {},
   "outputs": [],
   "source": [
    "s = \"##########cs#is#computer#science############\"\n",
    "print(\"'%s'\" % s)\n",
    "print(\"'%s'\" % s.strip('#'))"
   ]
  },
  {
   "cell_type": "markdown",
   "metadata": {},
   "source": [
    "### 2.2 `string.lstrip(char)` ###\n",
    "\n",
    "Left Strip\n",
    "\n",
    "ลบทุก `char` ที่อยู่ส่วนต้น (ทางซ้าย) ของ `string`\n",
    "\n",
    "default `char` คือ space (`' '`)"
   ]
  },
  {
   "cell_type": "code",
   "execution_count": null,
   "metadata": {},
   "outputs": [],
   "source": [
    "s = \"            cs is computer science          \"\n",
    "print(\"'%s'\" % s)\n",
    "print(\"'%s'\" % s.lstrip())"
   ]
  },
  {
   "cell_type": "code",
   "execution_count": null,
   "metadata": {},
   "outputs": [],
   "source": [
    "s = \"##########cs#is#computer#science############\"\n",
    "print(\"'%s'\" % s)\n",
    "print(\"'%s'\" % s.lstrip('#'))"
   ]
  },
  {
   "cell_type": "markdown",
   "metadata": {},
   "source": [
    "### 2.3 `string.rstrip(char)` ###\n",
    "\n",
    "Right Strip\n",
    "\n",
    "ลบทุก `char` ที่อยู่ส่วนท้าย (ทางขวา) ของ `string`\n",
    "\n",
    "default `char` คือ space (`' '`)"
   ]
  },
  {
   "cell_type": "code",
   "execution_count": null,
   "metadata": {},
   "outputs": [],
   "source": [
    "s = \"            cs is computer science          \"\n",
    "print(\"'%s'\" % s)\n",
    "print(\"'%s'\" % s.rstrip())"
   ]
  },
  {
   "cell_type": "code",
   "execution_count": null,
   "metadata": {},
   "outputs": [],
   "source": [
    "s = \"##########cs#is#computer#science############\"\n",
    "print(\"'%s'\" % s)\n",
    "print(\"'%s'\" % s.rstrip('#'))"
   ]
  },
  {
   "cell_type": "markdown",
   "metadata": {},
   "source": [
    "### 2.4 `string.center(width, fill_char)` ###\n",
    "\n",
    "จัดวางตำแหน่งกึ่งกลางในพื้นที่ขนาด `width` โดยเติมช่องว่างด้วย `fill_char`\n",
    "\n",
    "* `fill_char` ใส่ได้แค่ character เดียว และ default คือ space (`' '`)"
   ]
  },
  {
   "cell_type": "code",
   "execution_count": null,
   "metadata": {},
   "outputs": [],
   "source": [
    "s = \"cs is computer science\"\n",
    "print('-' * 40)\n",
    "print(s.center(40))\n",
    "print(s.center(40, '-'))"
   ]
  },
  {
   "cell_type": "markdown",
   "metadata": {},
   "source": [
    "### 2.5 `string.ljust(width, fill_char)` ###\n",
    "\n",
    "Left Justify\n",
    "\n",
    "จัดวางตำแหน่งชิดซ้ายในพื้นที่ขนาด `width` โดยเติมช่องว่างด้วย `fill_char`\n",
    "\n",
    "* `fill_char` ใส่ได้แค่ character เดียว และ default คือ space (`' '`)"
   ]
  },
  {
   "cell_type": "code",
   "execution_count": null,
   "metadata": {},
   "outputs": [],
   "source": [
    "s = \"cs is computer science\"\n",
    "print('-' * 40)\n",
    "print(s.ljust(40))\n",
    "print(s.ljust(40, '-'))"
   ]
  },
  {
   "cell_type": "markdown",
   "metadata": {},
   "source": [
    "### 2.6 `string.rjust(width, fill_char)` ###\n",
    "\n",
    "Right Justify\n",
    "\n",
    "จัดวางตำแหน่งชิดขวาในพื้นที่ขนาด `width` โดยเติมช่องว่างด้วย `fill_char`\n",
    "\n",
    "* `fill_char` ใส่ได้แค่ character เดียว และ default คือ space (`' '`)"
   ]
  },
  {
   "cell_type": "code",
   "execution_count": null,
   "metadata": {},
   "outputs": [],
   "source": [
    "s = \"cs is computer science\"\n",
    "print('-' * 40)\n",
    "print(s.rjust(40))\n",
    "print(s.rjust(40, '-'))"
   ]
  },
  {
   "cell_type": "markdown",
   "metadata": {},
   "source": [
    "### 2.7 `string.zfill(width)` ###\n",
    "Zero Fill\n",
    "\n",
    "เติม 0 หน้า String ให้เต็มความยาว width\n"
   ]
  },
  {
   "cell_type": "code",
   "execution_count": null,
   "metadata": {},
   "outputs": [],
   "source": [
    "s = \"CS is Computer Science\"\n",
    "print(s.zfill(30))\n",
    "print(s.zfill(40))"
   ]
  },
  {
   "cell_type": "markdown",
   "metadata": {},
   "source": [
    "--------------\n",
    "\n",
    "-------------\n"
   ]
  },
  {
   "cell_type": "markdown",
   "metadata": {},
   "source": [
    "## 3. ตัวเล็ก ตัวใหญ่ ##"
   ]
  },
  {
   "cell_type": "markdown",
   "metadata": {},
   "source": [
    "### 3.1 `string.capitalize()` ###\n",
    "\n",
    "ทำให้ตัวอักษรใน `string` เฉพาะตัวแรกสุด เป็นตัวใหญ่\n",
    "\n",
    "ตัวอักษรอื่นที่ไม่ใช่ตัวแรกสุด จะถูกเปลี่ยนเป็นตัวเล็ก"
   ]
  },
  {
   "cell_type": "code",
   "execution_count": null,
   "metadata": {},
   "outputs": [],
   "source": [
    "s = \"CS is Computer Science\"\n",
    "print(s.capitalize())\n",
    "print(s)"
   ]
  },
  {
   "cell_type": "markdown",
   "metadata": {},
   "source": [
    "### 3.2 `string.title()` ###\n",
    "\n",
    "ทำให้ตัวอักษรตัวแรกของแต่ละคำ เป็นตัวใหญ่\n",
    "\n",
    "ตัวอักษรอื่นที่ไม่ใช่ตัวแรกสุดของคำ จะถูกเปลี่ยนเป็นตัวเล็ก"
   ]
  },
  {
   "cell_type": "code",
   "execution_count": null,
   "metadata": {},
   "outputs": [],
   "source": [
    "s = \"CS is Computer Science, I love Fundamental PROGRAMMING Concept\"\n",
    "print(s.title())\n",
    "print(s)"
   ]
  },
  {
   "cell_type": "markdown",
   "metadata": {},
   "source": [
    "### 3.3 `string.lower()` ###\n",
    "\n",
    "ทำให้ตัวอักษรทุกตัว เป็นตัวเล็ก"
   ]
  },
  {
   "cell_type": "code",
   "execution_count": null,
   "metadata": {},
   "outputs": [],
   "source": [
    "s = \"CS is Computer Science, I love Fundamental PROGRAMMING Concept\"\n",
    "print(s.lower())\n",
    "print(s)"
   ]
  },
  {
   "cell_type": "markdown",
   "metadata": {},
   "source": [
    "### 3.4 `string.upper()` ###\n",
    "\n",
    "ทำให้ตัวอักษรทุกตัว เป็นตัวใหญ่"
   ]
  },
  {
   "cell_type": "code",
   "execution_count": null,
   "metadata": {},
   "outputs": [],
   "source": [
    "s = \"CS is Computer Science, I love Fundamental PROGRAMMING Concept\"\n",
    "print(s.upper())\n",
    "print(s)"
   ]
  },
  {
   "cell_type": "markdown",
   "metadata": {},
   "source": [
    "### 3.5 `string.swapcase()` ###\n",
    "\n",
    "ทำให้ตัวอักษรทุกตัวเปลี่ยน Case\n",
    "\n",
    "จากตัวเล็กเป็นตัวใหญ่ จากตัวใหญ่เป็นตัวเล็ก"
   ]
  },
  {
   "cell_type": "code",
   "execution_count": null,
   "metadata": {},
   "outputs": [],
   "source": [
    "s = \"CS is Computer Science, I love Fundamental PROGRAMMING Concept\"\n",
    "print(s.swapcase())\n",
    "print(s)"
   ]
  },
  {
   "cell_type": "markdown",
   "metadata": {},
   "source": [
    "---------\n",
    "\n",
    "---------"
   ]
  },
  {
   "cell_type": "markdown",
   "metadata": {},
   "source": [
    "## 4. ตรวจสอบ String ##"
   ]
  },
  {
   "cell_type": "markdown",
   "metadata": {},
   "source": [
    "### 4.1 string.isdigit() ###\n",
    "\n",
    "ตรวจสอบว่าอักขระทุกตัวใน `string` เป็น digit (0 - 9) หรือไม่\n",
    "\n",
    "คืนค่า `True` ถ้าทุกตัวเป็น digit\n",
    "\n",
    "คืนค่า `False` ถ้า อย่างน้อย 1 ตัว ไม่เป็น digit"
   ]
  },
  {
   "cell_type": "code",
   "execution_count": null,
   "metadata": {},
   "outputs": [],
   "source": [
    "s = '2017'\n",
    "print( s.isdigit() )"
   ]
  },
  {
   "cell_type": "code",
   "execution_count": null,
   "metadata": {},
   "outputs": [],
   "source": [
    "s = '20.17'\n",
    "print( s.isdigit() )"
   ]
  },
  {
   "cell_type": "code",
   "execution_count": null,
   "metadata": {},
   "outputs": [],
   "source": [
    "s = 'Year2017'\n",
    "print( s.isdigit() )"
   ]
  },
  {
   "cell_type": "code",
   "execution_count": null,
   "metadata": {},
   "outputs": [],
   "source": [
    "s = 2017\n",
    "print( s.isdigit() )"
   ]
  },
  {
   "cell_type": "markdown",
   "metadata": {},
   "source": [
    "### 4.2 `string.isalpha()` ###\n",
    "\n",
    "ตรวจสอบว่าอักขระทุกตัวใน `string` เป็น alphabet (A-Z, a-z) หรือไม่\n",
    "\n",
    "คืนค่า `True` ถ้าทุกตัวเป็น alphabet\n",
    "\n",
    "คืนค่า `False` ถ้ามีอย่างน้อย 1 ตัวที่ไม่เป็น alphabet"
   ]
  },
  {
   "cell_type": "code",
   "execution_count": null,
   "metadata": {},
   "outputs": [],
   "source": [
    "s = '2017'\n",
    "print( s.isalpha() )"
   ]
  },
  {
   "cell_type": "code",
   "execution_count": null,
   "metadata": {},
   "outputs": [],
   "source": [
    "s = 'Year2017'\n",
    "print( s.isalpha() )"
   ]
  },
  {
   "cell_type": "code",
   "execution_count": null,
   "metadata": {},
   "outputs": [],
   "source": [
    "s = 'Python'\n",
    "print( s.isalpha() )"
   ]
  },
  {
   "cell_type": "code",
   "execution_count": null,
   "metadata": {},
   "outputs": [],
   "source": [
    "s = 'CS is Computer Science'\n",
    "print( s.isalpha() )"
   ]
  },
  {
   "cell_type": "markdown",
   "metadata": {},
   "source": [
    "### 4.3 `string.isalnum()` ###\n",
    "\n",
    "ตรวจสอบว่าอักขระทุกตัวใน `string` เป็น alpha-numeric หรือไม่\n",
    "\n",
    "alpha คือ alphabet (A-Z, a-z)\n",
    "\n",
    "numeric คือ digit (0-9)\n",
    "\n",
    "คืนค่า True ถ้าทุกตัวเป็น alpha-numeric\n",
    "\n",
    "คืนค่า False ถ้ามีอย่างน้อย 1 ตัวที่ไม่เป็น alpha-numeric"
   ]
  },
  {
   "cell_type": "code",
   "execution_count": null,
   "metadata": {},
   "outputs": [],
   "source": [
    "s = '2017'\n",
    "print( s.isalnum() )"
   ]
  },
  {
   "cell_type": "code",
   "execution_count": null,
   "metadata": {},
   "outputs": [],
   "source": [
    "s = 'Year2017'\n",
    "print( s.isalnum() )"
   ]
  },
  {
   "cell_type": "code",
   "execution_count": null,
   "metadata": {},
   "outputs": [],
   "source": [
    "s = 'Python'\n",
    "print( s.isalnum() )"
   ]
  },
  {
   "cell_type": "code",
   "execution_count": null,
   "metadata": {},
   "outputs": [],
   "source": [
    "s = 'CS is Computer Science'\n",
    "print( s.isalnum() )"
   ]
  },
  {
   "cell_type": "markdown",
   "metadata": {},
   "source": [
    "### 4.4 `string.isspace()` ###\n",
    "\n",
    "ตรวจสอบว่าอักขระทุกตัวใน `string` เป็น white space หรือไม่"
   ]
  },
  {
   "cell_type": "code",
   "execution_count": null,
   "metadata": {},
   "outputs": [],
   "source": [
    "s = 'CS is Computer Science'\n",
    "print( s.isspace() )"
   ]
  },
  {
   "cell_type": "code",
   "execution_count": null,
   "metadata": {},
   "outputs": [],
   "source": [
    "s = '         '\n",
    "print( s.isspace() )"
   ]
  },
  {
   "cell_type": "code",
   "execution_count": null,
   "metadata": {},
   "outputs": [],
   "source": [
    "s = '\\n\\t'\n",
    "print( s.isspace() )"
   ]
  },
  {
   "cell_type": "markdown",
   "metadata": {},
   "source": [
    "### 4.5 `string.islower()` ###\n",
    "\n",
    "ตรวจสอบว่าอักขระทุกตัวใน `string` เป็นตัวเล็กหรือไม่\n",
    "\n",
    "### 4.6 `string.isupper()` ###\n",
    "\n",
    "ตรวจสอบว่าอักขระทุกตัวใน `string` เป็นตัวใหญ่หรือไม่"
   ]
  }
 ],
 "metadata": {
  "kernelspec": {
   "display_name": "Python 3",
   "language": "python",
   "name": "python3"
  },
  "language_info": {
   "codemirror_mode": {
    "name": "ipython",
    "version": 3
   },
   "file_extension": ".py",
   "mimetype": "text/x-python",
   "name": "python",
   "nbconvert_exporter": "python",
   "pygments_lexer": "ipython3",
   "version": "3.7.6"
  }
 },
 "nbformat": 4,
 "nbformat_minor": 4
}
